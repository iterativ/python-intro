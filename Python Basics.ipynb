{
 "cells": [
  {
   "cell_type": "markdown",
   "metadata": {},
   "source": [
    "# Python Basics"
   ]
  },
  {
   "cell_type": "markdown",
   "metadata": {},
   "source": [
    "## Datastructures"
   ]
  },
  {
   "cell_type": "markdown",
   "metadata": {},
   "source": [
    "First we start with something lazy that does't do anything, a comment."
   ]
  },
  {
   "cell_type": "code",
   "execution_count": null,
   "metadata": {
    "collapsed": true
   },
   "outputs": [],
   "source": [
    "# This is a python comment"
   ]
  },
  {
   "cell_type": "markdown",
   "metadata": {},
   "source": [
    "### Strings"
   ]
  },
  {
   "cell_type": "code",
   "execution_count": null,
   "metadata": {
    "collapsed": true
   },
   "outputs": [],
   "source": [
    "my_string = \"Foo\"\n",
    "another_string = 'bar'\n",
    "\n",
    "new_string = my_string +' '+ another_string"
   ]
  },
  {
   "cell_type": "code",
   "execution_count": null,
   "metadata": {
    "collapsed": false
   },
   "outputs": [],
   "source": [
    "print(new_string)"
   ]
  },
  {
   "cell_type": "markdown",
   "metadata": {},
   "source": [
    "### Numbers\n",
    "Python supports all kinds of numbers. One little pifall is that numbers without a decimal point are interpreted as integers. "
   ]
  },
  {
   "cell_type": "code",
   "execution_count": null,
   "metadata": {
    "collapsed": true
   },
   "outputs": [],
   "source": []
  },
  {
   "cell_type": "code",
   "execution_count": null,
   "metadata": {
    "collapsed": false
   },
   "outputs": [],
   "source": [
    "pi =  3.1415\n",
    "x = 3\n",
    "y = 3.\n",
    "z = (1.5 + 5j)\n",
    "\n",
    "print type(pi)\n",
    "print type(x)\n",
    "print type(y)\n",
    "print type(z)"
   ]
  },
  {
   "cell_type": "code",
   "execution_count": null,
   "metadata": {
    "collapsed": false
   },
   "outputs": [],
   "source": [
    "import math\n",
    "\n",
    "print pi*x+11.0\n",
    "print x**2\n",
    "print math.sqrt(3)"
   ]
  },
  {
   "cell_type": "markdown",
   "metadata": {},
   "source": [
    "### Lists\n",
    "A list is similar to an array in C or Matlab. But it offers a lot more functionalites. \n"
   ]
  },
  {
   "cell_type": "code",
   "execution_count": null,
   "metadata": {
    "collapsed": false
   },
   "outputs": [],
   "source": [
    "my_empty_list = []\n",
    "musicians = ['Chris', 'Kurt', 'Dave']\n",
    "instruments = ['Drums', 'Vocals', 'Guitar']\n",
    "print musicians"
   ]
  },
  {
   "cell_type": "markdown",
   "metadata": {},
   "source": [
    "What makes lists powerful are the built in methods of lists"
   ]
  },
  {
   "cell_type": "code",
   "execution_count": null,
   "metadata": {
    "collapsed": false
   },
   "outputs": [],
   "source": [
    "print len(musicians)\n",
    "print zip(musicians, instruments)\n",
    "print musicians * 3\n",
    "\n",
    "def is_odd(num):\n",
    "   return num % 2\n",
    "\n",
    "print filter(is_odd, range(0,10,1),)"
   ]
  },
  {
   "cell_type": "code",
   "execution_count": null,
   "metadata": {
    "collapsed": false
   },
   "outputs": [],
   "source": [
    "musicians.append('Heino')\n",
    "print musicians"
   ]
  },
  {
   "cell_type": "markdown",
   "metadata": {},
   "source": [
    "### Dictionaries"
   ]
  },
  {
   "cell_type": "code",
   "execution_count": null,
   "metadata": {
    "collapsed": false
   },
   "outputs": [],
   "source": [
    "empty_dict = {}\n",
    "print type(empty_dict)"
   ]
  },
  {
   "cell_type": "code",
   "execution_count": null,
   "metadata": {
    "collapsed": false
   },
   "outputs": [],
   "source": [
    "car = {'Brand': 'Volkswagen', \n",
    "       'Model': 'Golf', \n",
    "       'Power': 167.9,\n",
    "       'Weight': 1500,\n",
    "      'Serial_Number':0}"
   ]
  },
  {
   "cell_type": "code",
   "execution_count": null,
   "metadata": {
    "collapsed": false
   },
   "outputs": [],
   "source": [
    "car.keys()"
   ]
  },
  {
   "cell_type": "markdown",
   "metadata": {},
   "source": [
    "Acessing a dictionary"
   ]
  },
  {
   "cell_type": "code",
   "execution_count": null,
   "metadata": {
    "collapsed": false
   },
   "outputs": [],
   "source": [
    "car['Model']"
   ]
  },
  {
   "cell_type": "markdown",
   "metadata": {},
   "source": [
    "## Dataflow"
   ]
  },
  {
   "cell_type": "markdown",
   "metadata": {},
   "source": [
    "## if statement"
   ]
  },
  {
   "cell_type": "code",
   "execution_count": null,
   "metadata": {
    "collapsed": false
   },
   "outputs": [],
   "source": [
    "name = raw_input('Write you name please')\n",
    "if(len(name)< 5):\n",
    "    print \"Your Name is shorter than 5 Characters\"\n",
    "else:\n",
    "    print \"Your Name is 5 characters long or longer\""
   ]
  },
  {
   "cell_type": "markdown",
   "metadata": {},
   "source": [
    "### For loops"
   ]
  },
  {
   "cell_type": "code",
   "execution_count": null,
   "metadata": {
    "collapsed": false
   },
   "outputs": [],
   "source": [
    "for index in range(0,3,1):\n",
    "    print index"
   ]
  },
  {
   "cell_type": "code",
   "execution_count": null,
   "metadata": {
    "collapsed": false
   },
   "outputs": [],
   "source": [
    "my_cars = [{'Brand': 'Tesla', \n",
    "       'Model': 'Model-S', \n",
    "       'Power': 510.0,\n",
    "       'Weight': 2100,\n",
    "      'Serial_Number':0},{'Brand': 'Jaguar', \n",
    "       'Model': 'E-Type', \n",
    "       'Power': 210.1,\n",
    "       'Weight': 1300,\n",
    "      'Serial_Number':0}]\n",
    "\n",
    "for car in my_cars:\n",
    "    print car['Model']"
   ]
  },
  {
   "cell_type": "code",
   "execution_count": null,
   "metadata": {
    "collapsed": false
   },
   "outputs": [],
   "source": [
    "for index, car in enumerate(my_cars):\n",
    "    print('%s : %s - %s' %(index, car['Brand'], car['Model']))"
   ]
  },
  {
   "cell_type": "markdown",
   "metadata": {},
   "source": [
    "List comperhension"
   ]
  },
  {
   "cell_type": "code",
   "execution_count": null,
   "metadata": {
    "collapsed": false
   },
   "outputs": [],
   "source": [
    "brands = [car['Brand'] for car in my_cars]\n",
    "print brands"
   ]
  },
  {
   "cell_type": "markdown",
   "metadata": {},
   "source": [
    "## Functions"
   ]
  },
  {
   "cell_type": "code",
   "execution_count": null,
   "metadata": {
    "collapsed": true
   },
   "outputs": [],
   "source": [
    "def myfunction(A, B):\n",
    "    result = A + B\n",
    "    return result"
   ]
  },
  {
   "cell_type": "code",
   "execution_count": null,
   "metadata": {
    "collapsed": false
   },
   "outputs": [],
   "source": [
    "myfunction(8, 9)"
   ]
  },
  {
   "cell_type": "markdown",
   "metadata": {},
   "source": [
    "Default parameters. "
   ]
  },
  {
   "cell_type": "code",
   "execution_count": null,
   "metadata": {
    "collapsed": true
   },
   "outputs": [],
   "source": [
    "def myfunction_2(A, B, offset = 0):\n",
    "    result = A + B + offset\n",
    "    return result"
   ]
  },
  {
   "cell_type": "code",
   "execution_count": null,
   "metadata": {
    "collapsed": false
   },
   "outputs": [],
   "source": [
    "myfunction_2(10,5)"
   ]
  },
  {
   "cell_type": "code",
   "execution_count": null,
   "metadata": {
    "collapsed": false
   },
   "outputs": [],
   "source": [
    "myfunction_2(10,5, offset=100)"
   ]
  },
  {
   "cell_type": "markdown",
   "metadata": {},
   "source": [
    "Anonymous functions ... The Lambda operator"
   ]
  },
  {
   "cell_type": "code",
   "execution_count": null,
   "metadata": {
    "collapsed": false
   },
   "outputs": [],
   "source": [
    "map(lambda x : x*2, [1,2,3])"
   ]
  },
  {
   "cell_type": "markdown",
   "metadata": {
    "collapsed": true
   },
   "source": [
    "Classes"
   ]
  },
  {
   "cell_type": "code",
   "execution_count": null,
   "metadata": {
    "collapsed": false
   },
   "outputs": [],
   "source": [
    "class Tree(object):\n",
    "    def __init__(self):\n",
    "        \n",
    "        self.heigth = 0.2;\n",
    "        self.leafs = [Leaf() for i in range(10)];\n",
    "    \n",
    "    def grow(self):\n",
    "        self.heigth=self.heigth *1.5;\n",
    "        \n",
    "    def get_older(self):\n",
    "        self.leafs = filter(lambda leaf: leaf.color != 'brown', self.leafs)\n",
    "\n",
    "    def grow_leafs(self):\n",
    "        self.leafs.extend([Leaf() for i in range(len(self.leafs))])\n",
    "    \n",
    "    def green_leafs(self):\n",
    "        return filter(lambda leaf: leaf.color == 'green', self.leafs)\n",
    "    \n",
    "    def orange_leafs(self):\n",
    "        return filter(lambda leaf: leaf.color == 'orange', self.leafs)\n",
    "\n",
    "        \n",
    "    def __str__(self):\n",
    "        num_green_leafs = 100. * float(len(self.green_leafs()))/float(len(self.leafs))\n",
    "        num_orange_leafs = 100. * float(len(self.orange_leafs()))/float(len(self.leafs))\n",
    "        return \"Tree: %2.1f m tall, %s leafs %2.1f %% green %2.1f orange\" % (self.heigth, len(self.leafs), num_green_leafs, num_orange_leafs )\n",
    "        \n",
    "class Leaf(object):\n",
    "    def __init__(self):\n",
    "        self.color = 'green';\n",
    "        \n",
    "    def get_older(self):\n",
    "        self.color = 'orange';\n",
    "        \n",
    "    def die(self):\n",
    "        self.color = 'brown';"
   ]
  },
  {
   "cell_type": "code",
   "execution_count": null,
   "metadata": {
    "collapsed": true
   },
   "outputs": [],
   "source": [
    "my_tree = Tree()"
   ]
  },
  {
   "cell_type": "code",
   "execution_count": null,
   "metadata": {
    "collapsed": false
   },
   "outputs": [],
   "source": [
    "print my_tree"
   ]
  },
  {
   "cell_type": "code",
   "execution_count": null,
   "metadata": {
    "collapsed": false
   },
   "outputs": [],
   "source": [
    "for year in range(0,3,1):\n",
    "    my_tree.grow()\n",
    "    my_tree.grow_leafs()\n",
    "    print my_tree"
   ]
  },
  {
   "cell_type": "markdown",
   "metadata": {},
   "source": [
    "Exercise:\n",
    "Program the aging of the tee... 50 % of the leafs are getting older and 25% of the organge leafs die. Print the tree at every iteration."
   ]
  },
  {
   "cell_type": "code",
   "execution_count": null,
   "metadata": {
    "collapsed": false
   },
   "outputs": [],
   "source": [
    "my_tree = Tree()\n",
    "\n",
    "for year in range(0,10,1):\n",
    "    my_tree.grow()\n",
    "    my_tree.grow_leafs()\n",
    "    print my_tree\n",
    "    \n",
    "print \" Stopped growing\"\n",
    "\n",
    "for year in range(0,30,1):\n",
    "    my_tree.get_older()\n",
    "    for leaf in my_tree.green_leafs()[::2]:\n",
    "            leaf.get_older()\n",
    "    for leaf in my_tree.orange_leafs()[::3]:\n",
    "            leaf.die()\n",
    "    print my_tree"
   ]
  },
  {
   "cell_type": "code",
   "execution_count": null,
   "metadata": {
    "collapsed": false
   },
   "outputs": [],
   "source": []
  },
  {
   "cell_type": "code",
   "execution_count": null,
   "metadata": {
    "collapsed": true
   },
   "outputs": [],
   "source": []
  },
  {
   "cell_type": "code",
   "execution_count": null,
   "metadata": {
    "collapsed": true
   },
   "outputs": [],
   "source": []
  }
 ],
 "metadata": {
  "kernelspec": {
   "display_name": "Python 2",
   "language": "python",
   "name": "python2"
  },
  "language_info": {
   "codemirror_mode": {
    "name": "ipython",
    "version": 2
   },
   "file_extension": ".py",
   "mimetype": "text/x-python",
   "name": "python",
   "nbconvert_exporter": "python",
   "pygments_lexer": "ipython2",
   "version": "2.7.9"
  }
 },
 "nbformat": 4,
 "nbformat_minor": 0
}
