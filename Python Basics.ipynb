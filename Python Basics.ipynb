{
 "cells": [
  {
   "cell_type": "markdown",
   "metadata": {},
   "source": [
    "# Python Basics"
   ]
  },
  {
   "cell_type": "markdown",
   "metadata": {},
   "source": [
    "## Datastructures"
   ]
  },
  {
   "cell_type": "markdown",
   "metadata": {},
   "source": [
    "First we start with something lazy that doesen't do anything, a comment."
   ]
  },
  {
   "cell_type": "code",
   "execution_count": 1,
   "metadata": {
    "collapsed": true
   },
   "outputs": [],
   "source": [
    "# This is a python comment"
   ]
  },
  {
   "cell_type": "markdown",
   "metadata": {},
   "source": [
    "### Strings"
   ]
  },
  {
   "cell_type": "code",
   "execution_count": 2,
   "metadata": {
    "collapsed": true
   },
   "outputs": [],
   "source": [
    "my_string = \"Foo\"\n",
    "another_string = 'bar'\n",
    "\n",
    "new_string = my_string +' '+ another_string"
   ]
  },
  {
   "cell_type": "code",
   "execution_count": 3,
   "metadata": {
    "collapsed": false
   },
   "outputs": [
    {
     "name": "stdout",
     "output_type": "stream",
     "text": [
      "Foo bar\n"
     ]
    }
   ],
   "source": [
    "print(new_string)"
   ]
  },
  {
   "cell_type": "markdown",
   "metadata": {},
   "source": [
    "### Numbers\n",
    "Python supports all kinds of numbers. One little pifall is that numbers without a decimal point are interpreted as integers. "
   ]
  },
  {
   "cell_type": "code",
   "execution_count": 4,
   "metadata": {
    "collapsed": false
   },
   "outputs": [
    {
     "name": "stdout",
     "output_type": "stream",
     "text": [
      "<type 'float'>\n",
      "<type 'int'>\n",
      "<type 'float'>\n",
      "<type 'complex'>\n"
     ]
    }
   ],
   "source": [
    "pi =  3.1415\n",
    "x = 3\n",
    "y = 3.\n",
    "z = (1.5 + 5j)\n",
    "\n",
    "print type(pi)\n",
    "print type(x)\n",
    "print type(y)\n",
    "print type(z)"
   ]
  },
  {
   "cell_type": "code",
   "execution_count": 5,
   "metadata": {
    "collapsed": false
   },
   "outputs": [
    {
     "name": "stdout",
     "output_type": "stream",
     "text": [
      "20.4245\n",
      "9\n",
      "1.73205080757\n",
      "1.73205080757j\n"
     ]
    }
   ],
   "source": [
    "import math\n",
    "import cmath\n",
    "\n",
    "print pi*x+11.0\n",
    "print x**2\n",
    "print math.sqrt(3)\n",
    "print cmath.sqrt(-3)"
   ]
  },
  {
   "cell_type": "markdown",
   "metadata": {},
   "source": [
    "### Lists\n",
    "A list is similar to an array in C or Matlab. But it offers a lot more functionalites. \n"
   ]
  },
  {
   "cell_type": "code",
   "execution_count": 6,
   "metadata": {
    "collapsed": false
   },
   "outputs": [
    {
     "name": "stdout",
     "output_type": "stream",
     "text": [
      "['Chris', 'Kurt', 'Dave']\n"
     ]
    }
   ],
   "source": [
    "my_empty_list = []\n",
    "musicians = ['Chris', 'Kurt', 'Dave']\n",
    "instruments = ['Drums', 'Vocals', 'Guitar']\n",
    "print musicians"
   ]
  },
  {
   "cell_type": "markdown",
   "metadata": {},
   "source": [
    "What makes lists powerful are the built in methods of lists"
   ]
  },
  {
   "cell_type": "code",
   "execution_count": 7,
   "metadata": {
    "collapsed": false
   },
   "outputs": [
    {
     "name": "stdout",
     "output_type": "stream",
     "text": [
      "3\n",
      "[('Chris', 'Drums'), ('Kurt', 'Vocals'), ('Dave', 'Guitar')]\n",
      "['Chris', 'Kurt', 'Dave', 'Chris', 'Kurt', 'Dave', 'Chris', 'Kurt', 'Dave']\n",
      "[1, 3, 5, 7, 9]\n"
     ]
    }
   ],
   "source": [
    "print len(musicians)\n",
    "print zip(musicians, instruments)\n",
    "print musicians * 3\n",
    "\n",
    "def is_odd(num):\n",
    "   return num % 2\n",
    "\n",
    "print filter(is_odd, range(0,10,1),)"
   ]
  },
  {
   "cell_type": "code",
   "execution_count": 8,
   "metadata": {
    "collapsed": false
   },
   "outputs": [
    {
     "name": "stdout",
     "output_type": "stream",
     "text": [
      "['Chris', 'Kurt', 'Dave', 'Heino']\n"
     ]
    }
   ],
   "source": [
    "musicians.append('Heino')\n",
    "print musicians"
   ]
  },
  {
   "cell_type": "markdown",
   "metadata": {},
   "source": [
    "### Dictionaries"
   ]
  },
  {
   "cell_type": "markdown",
   "metadata": {},
   "source": [
    "Dictionaries are in other languages called Map or hashmap. A dict contains keys and values"
   ]
  },
  {
   "cell_type": "code",
   "execution_count": 9,
   "metadata": {
    "collapsed": false
   },
   "outputs": [
    {
     "name": "stdout",
     "output_type": "stream",
     "text": [
      "<type 'dict'>\n"
     ]
    }
   ],
   "source": [
    "empty_dict = {}\n",
    "print type(empty_dict)"
   ]
  },
  {
   "cell_type": "code",
   "execution_count": 10,
   "metadata": {
    "collapsed": false
   },
   "outputs": [],
   "source": [
    "car = {'Brand': 'Volkswagen', \n",
    "       'Model': 'Golf', \n",
    "       'Power': 167.9,\n",
    "       'Weight': 1500,\n",
    "      'Serial_Number':0}"
   ]
  },
  {
   "cell_type": "code",
   "execution_count": 11,
   "metadata": {
    "collapsed": false
   },
   "outputs": [
    {
     "data": {
      "text/plain": [
       "['Weight', 'Brand', 'Model', 'Power', 'Serial_Number']"
      ]
     },
     "execution_count": 11,
     "metadata": {},
     "output_type": "execute_result"
    }
   ],
   "source": [
    "car.keys()"
   ]
  },
  {
   "cell_type": "markdown",
   "metadata": {},
   "source": [
    "Acessing a dictionary"
   ]
  },
  {
   "cell_type": "code",
   "execution_count": 12,
   "metadata": {
    "collapsed": false
   },
   "outputs": [
    {
     "data": {
      "text/plain": [
       "'Golf'"
      ]
     },
     "execution_count": 12,
     "metadata": {},
     "output_type": "execute_result"
    }
   ],
   "source": [
    "car['Model']"
   ]
  },
  {
   "cell_type": "markdown",
   "metadata": {},
   "source": [
    "## Dataflow"
   ]
  },
  {
   "cell_type": "markdown",
   "metadata": {},
   "source": [
    "## if statement"
   ]
  },
  {
   "cell_type": "code",
   "execution_count": 20,
   "metadata": {
    "collapsed": false
   },
   "outputs": [
    {
     "name": "stdout",
     "output_type": "stream",
     "text": [
      "Write you name please: Peter\n",
      "Your Name is 5 characters long or longer\n"
     ]
    }
   ],
   "source": [
    "name = raw_input('Write you name please: ')\n",
    "if(len(name)< 5):\n",
    "    print \"Your Name is shorter than 5 Characters\"\n",
    "else:\n",
    "    print \"Your Name is 5 characters long or longer\""
   ]
  },
  {
   "cell_type": "markdown",
   "metadata": {},
   "source": [
    "### For loops"
   ]
  },
  {
   "cell_type": "code",
   "execution_count": 16,
   "metadata": {
    "collapsed": false
   },
   "outputs": [
    {
     "name": "stdout",
     "output_type": "stream",
     "text": [
      "0\n",
      "1\n",
      "2\n"
     ]
    }
   ],
   "source": [
    "for index in range(3):\n",
    "    print index"
   ]
  },
  {
   "cell_type": "code",
   "execution_count": 21,
   "metadata": {
    "collapsed": false
   },
   "outputs": [
    {
     "name": "stdout",
     "output_type": "stream",
     "text": [
      "Model-S\n",
      "E-Type\n"
     ]
    }
   ],
   "source": [
    "my_cars = [{'Brand': 'Tesla', \n",
    "       'Model': 'Model-S', \n",
    "       'Power': 510.0,\n",
    "       'Weight': 2100,\n",
    "      'Serial_Number':0},{'Brand': 'Jaguar', \n",
    "       'Model': 'E-Type', \n",
    "       'Power': 210.1,\n",
    "       'Weight': 1300,\n",
    "      'Serial_Number':0}]\n",
    "\n",
    "for car in my_cars:\n",
    "    print car['Model']"
   ]
  },
  {
   "cell_type": "code",
   "execution_count": 18,
   "metadata": {
    "collapsed": false
   },
   "outputs": [
    {
     "name": "stdout",
     "output_type": "stream",
     "text": [
      "0 : Tesla - Model-S\n",
      "1 : Jaguar - E-Type\n"
     ]
    }
   ],
   "source": [
    "for index, car in enumerate(my_cars):\n",
    "    print('%s : %s - %s' %(index, car['Brand'], car['Model']))"
   ]
  },
  {
   "cell_type": "markdown",
   "metadata": {},
   "source": [
    "List comperhension"
   ]
  },
  {
   "cell_type": "code",
   "execution_count": 19,
   "metadata": {
    "collapsed": false
   },
   "outputs": [
    {
     "name": "stdout",
     "output_type": "stream",
     "text": [
      "['Tesla', 'Jaguar']\n"
     ]
    }
   ],
   "source": [
    "brands = [car['Brand'] for car in my_cars]\n",
    "print brands"
   ]
  },
  {
   "cell_type": "markdown",
   "metadata": {},
   "source": [
    "## Functions"
   ]
  },
  {
   "cell_type": "code",
   "execution_count": null,
   "metadata": {
    "collapsed": true
   },
   "outputs": [],
   "source": [
    "def myfunction(A, B):\n",
    "    result = A + B\n",
    "    return result"
   ]
  },
  {
   "cell_type": "code",
   "execution_count": null,
   "metadata": {
    "collapsed": false
   },
   "outputs": [],
   "source": [
    "myfunction(8, 9)"
   ]
  },
  {
   "cell_type": "markdown",
   "metadata": {},
   "source": [
    "Default parameters. "
   ]
  },
  {
   "cell_type": "code",
   "execution_count": null,
   "metadata": {
    "collapsed": true
   },
   "outputs": [],
   "source": [
    "def myfunction_2(A, B, offset = 0):\n",
    "    result = A + B + offset\n",
    "    return result"
   ]
  },
  {
   "cell_type": "code",
   "execution_count": null,
   "metadata": {
    "collapsed": false
   },
   "outputs": [],
   "source": [
    "myfunction_2(10,5)"
   ]
  },
  {
   "cell_type": "code",
   "execution_count": null,
   "metadata": {
    "collapsed": false
   },
   "outputs": [],
   "source": [
    "myfunction_2(10,5, offset=100)"
   ]
  },
  {
   "cell_type": "markdown",
   "metadata": {},
   "source": [
    "Anonymous functions ... The Lambda operator"
   ]
  },
  {
   "cell_type": "code",
   "execution_count": null,
   "metadata": {
    "collapsed": false
   },
   "outputs": [],
   "source": [
    "map(lambda x : x*2, [1,2,3])"
   ]
  },
  {
   "cell_type": "markdown",
   "metadata": {
    "collapsed": true
   },
   "source": [
    "Classes"
   ]
  },
  {
   "cell_type": "code",
   "execution_count": null,
   "metadata": {
    "collapsed": false
   },
   "outputs": [],
   "source": [
    "class Tree(object):\n",
    "    def __init__(self):\n",
    "        \n",
    "        self.heigth = 0.2;\n",
    "        self.leafs = [Leaf() for i in range(10)];\n",
    "    \n",
    "    def grow(self):\n",
    "        self.heigth=self.heigth *1.5;\n",
    "        \n",
    "    def get_older(self):\n",
    "        self.leafs = filter(lambda leaf: leaf.color != 'brown', self.leafs)\n",
    "\n",
    "    def grow_leafs(self):\n",
    "        self.leafs.extend([Leaf() for i in range(len(self.leafs))])\n",
    "    \n",
    "    def green_leafs(self):\n",
    "        return filter(lambda leaf: leaf.color == 'green', self.leafs)\n",
    "    \n",
    "    def orange_leafs(self):\n",
    "        return filter(lambda leaf: leaf.color == 'orange', self.leafs)\n",
    "\n",
    "        \n",
    "    def __str__(self):\n",
    "        num_green_leafs = 100. * float(len(self.green_leafs()))/float(len(self.leafs))\n",
    "        num_orange_leafs = 100. * float(len(self.orange_leafs()))/float(len(self.leafs))\n",
    "        return \"Tree: %2.1f m tall, %s leafs %2.1f %% green %2.1f orange\" % (self.heigth, len(self.leafs), num_green_leafs, num_orange_leafs )\n",
    "        \n",
    "class Leaf(object):\n",
    "    def __init__(self):\n",
    "        self.color = 'green';\n",
    "        \n",
    "    def get_older(self):\n",
    "        self.color = 'orange';\n",
    "        \n",
    "    def die(self):\n",
    "        self.color = 'brown';"
   ]
  },
  {
   "cell_type": "code",
   "execution_count": null,
   "metadata": {
    "collapsed": false
   },
   "outputs": [],
   "source": [
    "my_tree = Tree()"
   ]
  },
  {
   "cell_type": "code",
   "execution_count": null,
   "metadata": {
    "collapsed": false
   },
   "outputs": [],
   "source": [
    "print my_tree"
   ]
  },
  {
   "cell_type": "code",
   "execution_count": null,
   "metadata": {
    "collapsed": false
   },
   "outputs": [],
   "source": [
    "for year in range(0,3,1):\n",
    "    my_tree.grow()\n",
    "    my_tree.grow_leafs()\n",
    "    print my_tree"
   ]
  },
  {
   "cell_type": "markdown",
   "metadata": {},
   "source": [
    "Exercise:\n",
    "Program the aging of the tee... 50 % of the leafs are getting older and 25% of the organge leafs die. Print the tree at every iteration."
   ]
  },
  {
   "cell_type": "code",
   "execution_count": null,
   "metadata": {
    "collapsed": false
   },
   "outputs": [],
   "source": [
    "my_tree = Tree()\n",
    "\n",
    "for year in range(0,10,1):\n",
    "    my_tree.grow()\n",
    "    my_tree.grow_leafs()\n",
    "    print my_tree\n",
    "    \n",
    "print \" Stopped growing\"\n",
    "\n",
    "for year in range(0,10,1):\n",
    "    my_tree.get_older()\n",
    "    for leaf in my_tree.green_leafs()[::2]:\n",
    "            leaf.get_older()\n",
    "    for leaf in my_tree.orange_leafs()[::3]:\n",
    "            leaf.die()\n",
    "    print my_tree"
   ]
  },
  {
   "cell_type": "markdown",
   "metadata": {
    "collapsed": false
   },
   "source": [
    "## Crating plots"
   ]
  },
  {
   "cell_type": "code",
   "execution_count": 30,
   "metadata": {
    "collapsed": false
   },
   "outputs": [
    {
     "data": {
      "text/html": [
       "\n",
       "\n",
       "    <script type=\"text/javascript\">\n",
       "      \n",
       "      (function(global) {\n",
       "        function now() {\n",
       "          return new Date();\n",
       "        }\n",
       "      \n",
       "        if (typeof (window._bokeh_onload_callbacks) === \"undefined\") {\n",
       "          window._bokeh_onload_callbacks = [];\n",
       "        }\n",
       "      \n",
       "        function run_callbacks() {\n",
       "          window._bokeh_onload_callbacks.forEach(function(callback) { callback() });\n",
       "          delete window._bokeh_onload_callbacks\n",
       "          console.info(\"Bokeh: all callbacks have finished\");\n",
       "        }\n",
       "      \n",
       "        function load_libs(js_urls, callback) {\n",
       "          window._bokeh_onload_callbacks.push(callback);\n",
       "          if (window._bokeh_is_loading > 0) {\n",
       "            console.log(\"Bokeh: BokehJS is being loaded, scheduling callback at\", now());\n",
       "            return null;\n",
       "          }\n",
       "          if (js_urls == null || js_urls.length === 0) {\n",
       "            run_callbacks();\n",
       "            return null;\n",
       "          }\n",
       "          console.log(\"Bokeh: BokehJS not loaded, scheduling load and callback at\", now());\n",
       "          window._bokeh_is_loading = js_urls.length;\n",
       "          for (var i = 0; i < js_urls.length; i++) {\n",
       "            var url = js_urls[i];\n",
       "            var s = document.createElement('script');\n",
       "            s.src = url;\n",
       "            s.async = false;\n",
       "            s.onreadystatechange = s.onload = function() {\n",
       "              window._bokeh_is_loading--;\n",
       "              if (window._bokeh_is_loading === 0) {\n",
       "                console.log(\"Bokeh: all BokehJS libraries loaded\");\n",
       "                run_callbacks()\n",
       "              }\n",
       "            };\n",
       "            s.onerror = function() {\n",
       "              console.warn(\"failed to load library \" + url);\n",
       "            };\n",
       "            console.log(\"Bokeh: injecting script tag for BokehJS library: \", url);\n",
       "            document.getElementsByTagName(\"head\")[0].appendChild(s);\n",
       "          }\n",
       "        };var js_urls = ['https://cdn.pydata.org/bokeh/release/bokeh-0.11.0.min.js', 'https://cdn.pydata.org/bokeh/release/bokeh-widgets-0.11.0.min.js', 'https://cdn.pydata.org/bokeh/release/bokeh-compiler-0.11.0.min.js'];\n",
       "      \n",
       "        var inline_js = [\n",
       "          function(Bokeh) {\n",
       "            Bokeh.set_log_level(\"info\");\n",
       "          },\n",
       "          function(Bokeh) {\n",
       "            console.log(\"Bokeh: injecting CSS: https://cdn.pydata.org/bokeh/release/bokeh-0.11.0.min.css\");\n",
       "            Bokeh.embed.inject_css(\"https://cdn.pydata.org/bokeh/release/bokeh-0.11.0.min.css\");\n",
       "            console.log(\"Bokeh: injecting CSS: https://cdn.pydata.org/bokeh/release/bokeh-widgets-0.11.0.min.css\");\n",
       "            Bokeh.embed.inject_css(\"https://cdn.pydata.org/bokeh/release/bokeh-widgets-0.11.0.min.css\");\n",
       "          }\n",
       "        ];\n",
       "      \n",
       "        function run_inline_js() {\n",
       "          for (var i = 0; i < inline_js.length; i++) {\n",
       "            inline_js[i](window.Bokeh);\n",
       "          }\n",
       "        }\n",
       "      \n",
       "        if (window._bokeh_is_loading === 0) {\n",
       "          console.log(\"Bokeh: BokehJS loaded, going straight to plotting\");\n",
       "          run_inline_js();\n",
       "        } else {\n",
       "          load_libs(js_urls, function() {\n",
       "            console.log(\"Bokeh: BokehJS plotting callback run at\", now());\n",
       "            run_inline_js();\n",
       "          });\n",
       "        }\n",
       "      }(this));\n",
       "    </script>\n",
       "    <div>\n",
       "        <a href=\"http://bokeh.pydata.org\" target=\"_blank\" class=\"bk-logo bk-logo-small bk-logo-notebook\"></a>\n",
       "        <span>BokehJS successfully loaded.</span>\n",
       "    </div>"
      ]
     },
     "metadata": {},
     "output_type": "display_data"
    }
   ],
   "source": [
    "from bokeh.io import output_notebook, show\n",
    "from bokeh.plotting import figure\n",
    "\n",
    "output_notebook()"
   ]
  },
  {
   "cell_type": "code",
   "execution_count": 49,
   "metadata": {
    "collapsed": false
   },
   "outputs": [],
   "source": [
    "k = range(0,1000,1)"
   ]
  },
  {
   "cell_type": "code",
   "execution_count": 50,
   "metadata": {
    "collapsed": false
   },
   "outputs": [
    {
     "data": {
      "text/html": [
       "\n",
       "\n",
       "    <div class=\"plotdiv\" id=\"28e06ae5-bf14-4191-8e45-62cdef825e87\"></div>\n",
       "<script type=\"text/javascript\">\n",
       "  \n",
       "  (function(global) {\n",
       "    function now() {\n",
       "      return new Date();\n",
       "    }\n",
       "  \n",
       "    if (typeof (window._bokeh_onload_callbacks) === \"undefined\") {\n",
       "      window._bokeh_onload_callbacks = [];\n",
       "    }\n",
       "  \n",
       "    function run_callbacks() {\n",
       "      window._bokeh_onload_callbacks.forEach(function(callback) { callback() });\n",
       "      delete window._bokeh_onload_callbacks\n",
       "      console.info(\"Bokeh: all callbacks have finished\");\n",
       "    }\n",
       "  \n",
       "    function load_libs(js_urls, callback) {\n",
       "      window._bokeh_onload_callbacks.push(callback);\n",
       "      if (window._bokeh_is_loading > 0) {\n",
       "        console.log(\"Bokeh: BokehJS is being loaded, scheduling callback at\", now());\n",
       "        return null;\n",
       "      }\n",
       "      if (js_urls == null || js_urls.length === 0) {\n",
       "        run_callbacks();\n",
       "        return null;\n",
       "      }\n",
       "      console.log(\"Bokeh: BokehJS not loaded, scheduling load and callback at\", now());\n",
       "      window._bokeh_is_loading = js_urls.length;\n",
       "      for (var i = 0; i < js_urls.length; i++) {\n",
       "        var url = js_urls[i];\n",
       "        var s = document.createElement('script');\n",
       "        s.src = url;\n",
       "        s.async = false;\n",
       "        s.onreadystatechange = s.onload = function() {\n",
       "          window._bokeh_is_loading--;\n",
       "          if (window._bokeh_is_loading === 0) {\n",
       "            console.log(\"Bokeh: all BokehJS libraries loaded\");\n",
       "            run_callbacks()\n",
       "          }\n",
       "        };\n",
       "        s.onerror = function() {\n",
       "          console.warn(\"failed to load library \" + url);\n",
       "        };\n",
       "        console.log(\"Bokeh: injecting script tag for BokehJS library: \", url);\n",
       "        document.getElementsByTagName(\"head\")[0].appendChild(s);\n",
       "      }\n",
       "    };var element = document.getElementById(\"28e06ae5-bf14-4191-8e45-62cdef825e87\");\n",
       "    if (element == null) {\n",
       "      console.log(\"Bokeh: ERROR: autoload.js configured with elementid '28e06ae5-bf14-4191-8e45-62cdef825e87' but no matching script tag was found. \")\n",
       "      return false;\n",
       "    }var js_urls = [];\n",
       "  \n",
       "    var inline_js = [\n",
       "      function(Bokeh) {\n",
       "        Bokeh.$(function() {\n",
       "            var docs_json = {\"60240632-6c57-40e0-9ed1-6e718e3f5b78\": {\"version\": \"0.11.0\", \"roots\": {\"root_ids\": [\"65f58ab1-69c9-4100-bbff-dacf37e8639a\", \"abec6eff-0bef-4274-8388-c8117c8757a2\", \"61fda1db-ca04-43fb-80cd-fa9bfc815dc9\", \"951cbcc0-ed9a-4e44-967f-5e063370220f\", \"8bdd3273-9213-4911-9ea5-6f5236cfb42b\", \"c2bc6458-6f4f-4ff1-8c87-dbf40fdf04d3\", \"561396b7-cfdf-4161-a232-fa34a8366832\", \"0783111d-813d-4149-9bee-bcf6ebe961c3\", \"4cbd32ec-6c7f-42f1-a23b-d56e4127e4bf\", \"d8602afd-fe0d-4f5a-9fde-5bf046effd59\"], \"references\": [{\"attributes\": {}, \"type\": \"ToolEvents\", \"id\": \"e0c52a59-3493-4843-9b07-3d98002d5667\"}, {\"attributes\": {\"plot\": {\"subtype\": \"Figure\", \"type\": \"Plot\", \"id\": \"951cbcc0-ed9a-4e44-967f-5e063370220f\"}}, \"type\": \"ResetTool\", \"id\": \"8e484c00-c8e2-4084-8dec-cb765b7e1a0d\"}, {\"attributes\": {\"plot\": {\"subtype\": \"Figure\", \"type\": \"Plot\", \"id\": \"abec6eff-0bef-4274-8388-c8117c8757a2\"}}, \"type\": \"ResetTool\", \"id\": \"311f2464-174a-485f-adf8-a02060880f6d\"}, {\"attributes\": {\"plot\": {\"subtype\": \"Figure\", \"type\": \"Plot\", \"id\": \"abec6eff-0bef-4274-8388-c8117c8757a2\"}}, \"type\": \"ResizeTool\", \"id\": \"65d88852-7784-4335-8e3e-0627fa64e9c9\"}, {\"attributes\": {\"callback\": null}, \"type\": \"DataRange1d\", \"id\": \"6a055a48-fdd7-4cb6-b98c-c99d815b9456\"}, {\"attributes\": {\"plot\": {\"subtype\": \"Figure\", \"type\": \"Plot\", \"id\": \"65f58ab1-69c9-4100-bbff-dacf37e8639a\"}}, \"type\": \"PanTool\", \"id\": \"60b19bd1-e090-4091-95d3-f9531f1ee4a7\"}, {\"attributes\": {\"x_range\": {\"type\": \"DataRange1d\", \"id\": \"fa91df39-c779-4b41-b789-9bf4e3c2396b\"}, \"y_range\": {\"type\": \"DataRange1d\", \"id\": \"cf3dca57-696a-4ebb-b051-102817bc1329\"}, \"renderers\": [{\"type\": \"LinearAxis\", \"id\": \"fce509fe-1fe2-46ee-ba2b-3ddf2f367342\"}, {\"type\": \"Grid\", \"id\": \"59eeaf2f-bfd1-4e92-b8d0-a5cda88e0bc8\"}, {\"type\": \"LinearAxis\", \"id\": \"6bfef538-35c3-48f9-a802-71912353b3e4\"}, {\"type\": \"Grid\", \"id\": \"45d114ee-d0d5-408c-bb9d-7f6cb17eb514\"}, {\"type\": \"BoxAnnotation\", \"id\": \"3d14f8b1-36c9-46c5-8856-d43f68077b8b\"}, {\"type\": \"GlyphRenderer\", \"id\": \"5907443e-c4d1-4c22-9bda-c3df8de6305e\"}], \"below\": [{\"type\": \"LinearAxis\", \"id\": \"fce509fe-1fe2-46ee-ba2b-3ddf2f367342\"}], \"tool_events\": {\"type\": \"ToolEvents\", \"id\": \"2b4adb2b-39f0-4195-9c60-8c2a7007c5c5\"}, \"tools\": [{\"type\": \"PanTool\", \"id\": \"80b2b88e-a1f9-4789-b596-1ba76c5a89a6\"}, {\"type\": \"WheelZoomTool\", \"id\": \"17b5272b-22b0-4b31-928b-7beaab8fbafc\"}, {\"type\": \"BoxZoomTool\", \"id\": \"8e63b6b3-02f7-4c2f-bddb-0f0131e015e3\"}, {\"type\": \"PreviewSaveTool\", \"id\": \"2cdc6782-a8a9-4810-ae41-ac376a77cf7f\"}, {\"type\": \"ResizeTool\", \"id\": \"15ab6899-6bf0-404a-82db-b8b9627d49f1\"}, {\"type\": \"ResetTool\", \"id\": \"8e484c00-c8e2-4084-8dec-cb765b7e1a0d\"}, {\"type\": \"HelpTool\", \"id\": \"a420e9ee-c442-49ec-a2fd-37cb925892a9\"}], \"left\": [{\"type\": \"LinearAxis\", \"id\": \"6bfef538-35c3-48f9-a802-71912353b3e4\"}]}, \"type\": \"Plot\", \"id\": \"951cbcc0-ed9a-4e44-967f-5e063370220f\", \"subtype\": \"Figure\"}, {\"attributes\": {\"callback\": null, \"column_names\": [\"y\", \"x\"], \"data\": {\"y\": [0], \"x\": [0, 1, 2, 3, 4, 5, 6, 7, 8, 9, 10, 11, 12, 13, 14, 15, 16, 17, 18, 19, 20, 21, 22, 23, 24, 25, 26, 27, 28, 29, 30, 31, 32, 33, 34, 35, 36, 37, 38, 39, 40, 41, 42, 43, 44, 45, 46, 47, 48, 49, 50, 51, 52, 53, 54, 55, 56, 57, 58, 59, 60, 61, 62, 63, 64, 65, 66, 67, 68, 69, 70, 71, 72, 73, 74, 75, 76, 77, 78, 79, 80, 81, 82, 83, 84, 85, 86, 87, 88, 89, 90, 91, 92, 93, 94, 95, 96, 97, 98, 99]}}, \"type\": \"ColumnDataSource\", \"id\": \"b39a2a9a-71c1-4813-90c0-209b735b731a\"}, {\"attributes\": {\"line_color\": {\"value\": \"black\"}, \"line_alpha\": {\"value\": 1.0}, \"render_mode\": \"css\", \"bottom_units\": \"screen\", \"level\": \"overlay\", \"top_units\": \"screen\", \"fill_alpha\": {\"value\": 0.5}, \"plot\": null, \"left_units\": \"screen\", \"line_dash\": [4, 4], \"line_width\": {\"value\": 2}, \"right_units\": \"screen\", \"fill_color\": {\"value\": \"lightgrey\"}}, \"type\": \"BoxAnnotation\", \"id\": \"d531278c-9424-4d95-8c38-0be16af7ae34\"}, {\"attributes\": {\"plot\": {\"subtype\": \"Figure\", \"type\": \"Plot\", \"id\": \"0783111d-813d-4149-9bee-bcf6ebe961c3\"}}, \"type\": \"WheelZoomTool\", \"id\": \"9fc32570-5395-4a4f-8fa7-eaeb6b9e8cae\"}, {\"attributes\": {\"plot\": {\"subtype\": \"Figure\", \"type\": \"Plot\", \"id\": \"61fda1db-ca04-43fb-80cd-fa9bfc815dc9\"}}, \"type\": \"PanTool\", \"id\": \"4802e58f-9533-423b-a2d9-4b6552679275\"}, {\"attributes\": {\"callback\": null, \"column_names\": [\"y\", \"x\"], \"data\": {\"y\": [0], \"x\": [0, 1, 2, 3, 4, 5, 6, 7, 8, 9, 10, 11, 12, 13, 14, 15, 16, 17, 18, 19, 20, 21, 22, 23, 24, 25, 26, 27, 28, 29, 30, 31, 32, 33, 34, 35, 36, 37, 38, 39, 40, 41, 42, 43, 44, 45, 46, 47, 48, 49, 50, 51, 52, 53, 54, 55, 56, 57, 58, 59, 60, 61, 62, 63, 64, 65, 66, 67, 68, 69, 70, 71, 72, 73, 74, 75, 76, 77, 78, 79, 80, 81, 82, 83, 84, 85, 86, 87, 88, 89, 90, 91, 92, 93, 94, 95, 96, 97, 98, 99]}}, \"type\": \"ColumnDataSource\", \"id\": \"85f2eec6-cbad-4fb5-9306-744e2bc838f6\"}, {\"attributes\": {}, \"type\": \"BasicTickFormatter\", \"id\": \"16377367-7f79-4d78-bc71-bd743bf26653\"}, {\"attributes\": {\"plot\": {\"subtype\": \"Figure\", \"type\": \"Plot\", \"id\": \"8bdd3273-9213-4911-9ea5-6f5236cfb42b\"}}, \"type\": \"WheelZoomTool\", \"id\": \"38212435-d102-4bcf-96a9-3e612a3c69c5\"}, {\"attributes\": {\"line_color\": {\"value\": \"#1f77b4\"}, \"line_alpha\": {\"value\": 0.1}, \"y\": {\"field\": \"y\"}, \"x\": {\"field\": \"x\"}}, \"type\": \"Line\", \"id\": \"08576c32-3728-4db2-8dd1-062c6bdf9be6\"}, {\"attributes\": {\"plot\": {\"subtype\": \"Figure\", \"type\": \"Plot\", \"id\": \"4cbd32ec-6c7f-42f1-a23b-d56e4127e4bf\"}}, \"type\": \"ResetTool\", \"id\": \"fb31c94a-59ad-49b8-a91e-5a1313d673c7\"}, {\"attributes\": {\"callback\": null, \"column_names\": [\"y\", \"x\"], \"data\": {\"y\": [0], \"x\": [0, 1, 2, 3, 4, 5, 6, 7, 8, 9, 10, 11, 12, 13, 14, 15, 16, 17, 18, 19, 20, 21, 22, 23, 24, 25, 26, 27, 28, 29, 30, 31, 32, 33, 34, 35, 36, 37, 38, 39, 40, 41, 42, 43, 44, 45, 46, 47, 48, 49, 50, 51, 52, 53, 54, 55, 56, 57, 58, 59, 60, 61, 62, 63, 64, 65, 66, 67, 68, 69, 70, 71, 72, 73, 74, 75, 76, 77, 78, 79, 80, 81, 82, 83, 84, 85, 86, 87, 88, 89, 90, 91, 92, 93, 94, 95, 96, 97, 98, 99]}}, \"type\": \"ColumnDataSource\", \"id\": \"2725fc4e-2d66-49dd-b508-2c01d46fee81\"}, {\"attributes\": {\"plot\": {\"subtype\": \"Figure\", \"type\": \"Plot\", \"id\": \"d8602afd-fe0d-4f5a-9fde-5bf046effd59\"}}, \"type\": \"PanTool\", \"id\": \"73384195-270b-4a04-8b04-2172eb574d6d\"}, {\"attributes\": {}, \"type\": \"BasicTicker\", \"id\": \"4d949ea5-9365-4e77-8036-cc0fd402db18\"}, {\"attributes\": {\"plot\": {\"subtype\": \"Figure\", \"type\": \"Plot\", \"id\": \"d8602afd-fe0d-4f5a-9fde-5bf046effd59\"}}, \"type\": \"ResetTool\", \"id\": \"5d931b7a-a583-468c-acd5-f8a50ce0bf24\"}, {\"attributes\": {\"callback\": null, \"column_names\": [\"y\", \"x\"], \"data\": {\"y\": [0, 1, 2, 3, 4, 5, 6, 7, 8, 9], \"x\": [0, 1, 2, 3, 4, 5, 6, 7, 8, 9, 10, 11, 12, 13, 14, 15, 16, 17, 18, 19, 20, 21, 22, 23, 24, 25, 26, 27, 28, 29, 30, 31, 32, 33, 34, 35, 36, 37, 38, 39, 40, 41, 42, 43, 44, 45, 46, 47, 48, 49, 50, 51, 52, 53, 54, 55, 56, 57, 58, 59, 60, 61, 62, 63, 64, 65, 66, 67, 68, 69, 70, 71, 72, 73, 74, 75, 76, 77, 78, 79, 80, 81, 82, 83, 84, 85, 86, 87, 88, 89, 90, 91, 92, 93, 94, 95, 96, 97, 98, 99]}}, \"type\": \"ColumnDataSource\", \"id\": \"b38b0f42-a502-47a8-ac1a-c50243b77972\"}, {\"attributes\": {\"plot\": {\"subtype\": \"Figure\", \"type\": \"Plot\", \"id\": \"65f58ab1-69c9-4100-bbff-dacf37e8639a\"}, \"ticker\": {\"type\": \"BasicTicker\", \"id\": \"f114f9a1-8d0f-423a-89d0-fa5bd823ef82\"}}, \"type\": \"Grid\", \"id\": \"0cc41f8e-1d5b-4835-8415-661c35119fbd\"}, {\"attributes\": {\"callback\": null}, \"type\": \"DataRange1d\", \"id\": \"ffe5b85b-6d69-4945-893b-6441980a8269\"}, {\"attributes\": {\"callback\": null}, \"type\": \"DataRange1d\", \"id\": \"fa91df39-c779-4b41-b789-9bf4e3c2396b\"}, {\"attributes\": {\"plot\": {\"subtype\": \"Figure\", \"type\": \"Plot\", \"id\": \"d8602afd-fe0d-4f5a-9fde-5bf046effd59\"}}, \"type\": \"ResizeTool\", \"id\": \"2c6a6491-53a7-406d-9cf9-cc9fa4d68749\"}, {\"attributes\": {\"plot\": {\"subtype\": \"Figure\", \"type\": \"Plot\", \"id\": \"561396b7-cfdf-4161-a232-fa34a8366832\"}}, \"type\": \"ResizeTool\", \"id\": \"2b744a70-bd10-4d12-a88e-eb3dffd989cd\"}, {\"attributes\": {\"callback\": null}, \"type\": \"DataRange1d\", \"id\": \"fb79e0bd-6671-4384-86b2-6ee0831ff67d\"}, {\"attributes\": {\"plot\": {\"subtype\": \"Figure\", \"type\": \"Plot\", \"id\": \"0783111d-813d-4149-9bee-bcf6ebe961c3\"}}, \"type\": \"PanTool\", \"id\": \"d599175f-ae5c-4ce6-8182-8ec9bcca9046\"}, {\"attributes\": {}, \"type\": \"BasicTicker\", \"id\": \"1a45fb55-a9ad-4934-8a8d-a6dc543a2945\"}, {\"attributes\": {\"plot\": {\"subtype\": \"Figure\", \"type\": \"Plot\", \"id\": \"61fda1db-ca04-43fb-80cd-fa9bfc815dc9\"}, \"ticker\": {\"type\": \"BasicTicker\", \"id\": \"f4585a26-8d55-445a-872e-d38750f29158\"}}, \"type\": \"Grid\", \"id\": \"9cb535b0-8ada-4a27-87c2-e69013c33813\"}, {\"attributes\": {}, \"type\": \"BasicTicker\", \"id\": \"f4585a26-8d55-445a-872e-d38750f29158\"}, {\"attributes\": {\"line_color\": {\"value\": \"#1f77b4\"}, \"x\": {\"field\": \"x\"}, \"y\": {\"field\": \"y\"}}, \"type\": \"Line\", \"id\": \"5cb12d42-e20e-47ab-99e4-a324227c65e1\"}, {\"attributes\": {\"plot\": {\"subtype\": \"Figure\", \"type\": \"Plot\", \"id\": \"c2bc6458-6f4f-4ff1-8c87-dbf40fdf04d3\"}, \"formatter\": {\"type\": \"BasicTickFormatter\", \"id\": \"cec18570-58be-4cd1-974f-2a4857476858\"}, \"ticker\": {\"type\": \"BasicTicker\", \"id\": \"9f228b04-c867-4139-9041-3641c4eeb7af\"}}, \"type\": \"LinearAxis\", \"id\": \"3b786ea3-39dd-4a2d-aa4b-b6154130c7c2\"}, {\"attributes\": {}, \"type\": \"ToolEvents\", \"id\": \"9939501e-65f4-48cc-9259-87d9d19cdfb6\"}, {\"attributes\": {\"plot\": {\"subtype\": \"Figure\", \"type\": \"Plot\", \"id\": \"61fda1db-ca04-43fb-80cd-fa9bfc815dc9\"}}, \"type\": \"WheelZoomTool\", \"id\": \"47ba19a1-b335-43df-b629-a1a2e6c20c26\"}, {\"attributes\": {\"plot\": {\"subtype\": \"Figure\", \"type\": \"Plot\", \"id\": \"abec6eff-0bef-4274-8388-c8117c8757a2\"}, \"ticker\": {\"type\": \"BasicTicker\", \"id\": \"1a45fb55-a9ad-4934-8a8d-a6dc543a2945\"}}, \"type\": \"Grid\", \"id\": \"b0cd4bb4-d418-41ce-ae0e-318b04d391ab\"}, {\"attributes\": {\"plot\": {\"subtype\": \"Figure\", \"type\": \"Plot\", \"id\": \"65f58ab1-69c9-4100-bbff-dacf37e8639a\"}}, \"type\": \"ResetTool\", \"id\": \"93e95477-978d-4e90-8e93-47ca3b3d2314\"}, {\"attributes\": {\"line_color\": {\"value\": \"black\"}, \"line_alpha\": {\"value\": 1.0}, \"render_mode\": \"css\", \"bottom_units\": \"screen\", \"level\": \"overlay\", \"top_units\": \"screen\", \"fill_alpha\": {\"value\": 0.5}, \"plot\": null, \"left_units\": \"screen\", \"line_dash\": [4, 4], \"line_width\": {\"value\": 2}, \"right_units\": \"screen\", \"fill_color\": {\"value\": \"lightgrey\"}}, \"type\": \"BoxAnnotation\", \"id\": \"ad3afb6b-16db-4a76-b6fa-f896053cf8a6\"}, {\"attributes\": {\"callback\": null}, \"type\": \"DataRange1d\", \"id\": \"5fab4525-08ed-4a9b-b308-eb5627f38599\"}, {\"attributes\": {}, \"type\": \"BasicTickFormatter\", \"id\": \"5b704935-16b3-4881-8ad0-99d5778c77e0\"}, {\"attributes\": {}, \"type\": \"BasicTickFormatter\", \"id\": \"17f9fb40-dbb0-463b-89ff-6d39fd234d09\"}, {\"attributes\": {\"nonselection_glyph\": {\"type\": \"Line\", \"id\": \"e63fcdd7-1729-40af-bbea-141fca9c3b11\"}, \"data_source\": {\"type\": \"ColumnDataSource\", \"id\": \"4f609cdb-d20a-40f4-9592-8227318e32a2\"}, \"selection_glyph\": null, \"hover_glyph\": null, \"glyph\": {\"type\": \"Line\", \"id\": \"9564de3a-ba6f-4b6a-898e-ee737b138105\"}}, \"type\": \"GlyphRenderer\", \"id\": \"87710095-586f-401f-ae19-9bed3e4a75fb\"}, {\"attributes\": {}, \"type\": \"ToolEvents\", \"id\": \"f336d968-0d08-459b-bffb-6572025f8a5b\"}, {\"attributes\": {\"x_range\": {\"type\": \"DataRange1d\", \"id\": \"da8f6718-0c8a-440d-948c-6567f3fd768b\"}, \"y_range\": {\"type\": \"DataRange1d\", \"id\": \"b223df80-1c5c-4aa2-912b-f2c558e7bb2e\"}, \"renderers\": [{\"type\": \"LinearAxis\", \"id\": \"63d72518-c5bf-4b07-a09f-4b14efff1bea\"}, {\"type\": \"Grid\", \"id\": \"85c93a04-1fe8-4534-a0f7-4cbdae66fbfa\"}, {\"type\": \"LinearAxis\", \"id\": \"71cf33bb-a2b8-40b2-b38d-e358962c8322\"}, {\"type\": \"Grid\", \"id\": \"0c59937b-5d85-4050-8aee-707680e07308\"}, {\"type\": \"BoxAnnotation\", \"id\": \"fa04c75a-c24f-4936-81bd-c970da5e59df\"}, {\"type\": \"GlyphRenderer\", \"id\": \"dde5084d-d469-4caf-963b-fea09dbcb7fc\"}], \"below\": [{\"type\": \"LinearAxis\", \"id\": \"63d72518-c5bf-4b07-a09f-4b14efff1bea\"}], \"tool_events\": {\"type\": \"ToolEvents\", \"id\": \"8a4ef2cd-7196-44c5-ab74-99e020bc814d\"}, \"tools\": [{\"type\": \"PanTool\", \"id\": \"d599175f-ae5c-4ce6-8182-8ec9bcca9046\"}, {\"type\": \"WheelZoomTool\", \"id\": \"9fc32570-5395-4a4f-8fa7-eaeb6b9e8cae\"}, {\"type\": \"BoxZoomTool\", \"id\": \"c332a5cf-a903-4097-9c4f-accea3fd49b0\"}, {\"type\": \"PreviewSaveTool\", \"id\": \"875f38fb-e5b7-4363-8a80-c94c569315df\"}, {\"type\": \"ResizeTool\", \"id\": \"a87c56c6-32cb-46fa-a6bf-45aac5889aaf\"}, {\"type\": \"ResetTool\", \"id\": \"f3840731-7422-4205-a7ed-564b7cd3569a\"}, {\"type\": \"HelpTool\", \"id\": \"3757498d-aa6f-48fc-8c88-3ebf4ea9ef06\"}], \"left\": [{\"type\": \"LinearAxis\", \"id\": \"71cf33bb-a2b8-40b2-b38d-e358962c8322\"}]}, \"type\": \"Plot\", \"id\": \"0783111d-813d-4149-9bee-bcf6ebe961c3\", \"subtype\": \"Figure\"}, {\"attributes\": {\"callback\": null, \"column_names\": [\"y\", \"x\"], \"data\": {\"y\": [0], \"x\": [0, 1, 2, 3, 4, 5, 6, 7, 8, 9, 10, 11, 12, 13, 14, 15, 16, 17, 18, 19, 20, 21, 22, 23, 24, 25, 26, 27, 28, 29, 30, 31, 32, 33, 34, 35, 36, 37, 38, 39, 40, 41, 42, 43, 44, 45, 46, 47, 48, 49, 50, 51, 52, 53, 54, 55, 56, 57, 58, 59, 60, 61, 62, 63, 64, 65, 66, 67, 68, 69, 70, 71, 72, 73, 74, 75, 76, 77, 78, 79, 80, 81, 82, 83, 84, 85, 86, 87, 88, 89, 90, 91, 92, 93, 94, 95, 96, 97, 98, 99]}}, \"type\": \"ColumnDataSource\", \"id\": \"315bf639-7457-4173-998a-73fbbb6b95cc\"}, {\"attributes\": {\"line_color\": {\"value\": \"#1f77b4\"}, \"line_alpha\": {\"value\": 0.1}, \"y\": {\"field\": \"y\"}, \"x\": {\"field\": \"x\"}}, \"type\": \"Line\", \"id\": \"c2be0321-fe5e-41f9-b5b1-f2a09463fed7\"}, {\"attributes\": {\"nonselection_glyph\": {\"type\": \"Line\", \"id\": \"2eaff7cf-2c7e-4ec0-a2b8-9685f1b66b7d\"}, \"data_source\": {\"type\": \"ColumnDataSource\", \"id\": \"89725c55-117d-4c4e-8639-a11ad85deccf\"}, \"selection_glyph\": null, \"hover_glyph\": null, \"glyph\": {\"type\": \"Line\", \"id\": \"67f776d3-4dac-4400-9195-9bac0b302fd0\"}}, \"type\": \"GlyphRenderer\", \"id\": \"b1b1e816-507b-4cc9-bfb2-79487849996e\"}, {\"attributes\": {\"line_color\": {\"value\": \"#1f77b4\"}, \"x\": {\"field\": \"x\"}, \"y\": {\"field\": \"y\"}}, \"type\": \"Line\", \"id\": \"67f776d3-4dac-4400-9195-9bac0b302fd0\"}, {\"attributes\": {}, \"type\": \"ToolEvents\", \"id\": \"b7a70de6-6881-4b46-888d-b41340fc37cb\"}, {\"attributes\": {\"callback\": null}, \"type\": \"DataRange1d\", \"id\": \"c2ce516d-1b76-4ac1-823f-11da93f9d72f\"}, {\"attributes\": {\"callback\": null, \"column_names\": [\"y\", \"x\"], \"data\": {\"y\": [0], \"x\": [0, 1, 2, 3, 4, 5, 6, 7, 8, 9, 10, 11, 12, 13, 14, 15, 16, 17, 18, 19, 20, 21, 22, 23, 24, 25, 26, 27, 28, 29, 30, 31, 32, 33, 34, 35, 36, 37, 38, 39, 40, 41, 42, 43, 44, 45, 46, 47, 48, 49, 50, 51, 52, 53, 54, 55, 56, 57, 58, 59, 60, 61, 62, 63, 64, 65, 66, 67, 68, 69, 70, 71, 72, 73, 74, 75, 76, 77, 78, 79, 80, 81, 82, 83, 84, 85, 86, 87, 88, 89, 90, 91, 92, 93, 94, 95, 96, 97, 98, 99]}}, \"type\": \"ColumnDataSource\", \"id\": \"89725c55-117d-4c4e-8639-a11ad85deccf\"}, {\"attributes\": {\"plot\": {\"subtype\": \"Figure\", \"type\": \"Plot\", \"id\": \"8bdd3273-9213-4911-9ea5-6f5236cfb42b\"}}, \"type\": \"PanTool\", \"id\": \"30a549a2-7f55-448b-bfd9-893fa6a84697\"}, {\"attributes\": {\"callback\": null}, \"type\": \"DataRange1d\", \"id\": \"da8f6718-0c8a-440d-948c-6567f3fd768b\"}, {\"attributes\": {\"plot\": {\"subtype\": \"Figure\", \"type\": \"Plot\", \"id\": \"65f58ab1-69c9-4100-bbff-dacf37e8639a\"}}, \"type\": \"ResizeTool\", \"id\": \"3efdf533-7cd8-4be5-aaec-b765713ec172\"}, {\"attributes\": {\"callback\": null, \"column_names\": [\"y\", \"x\"], \"data\": {\"y\": [0], \"x\": [0, 1, 2, 3, 4, 5, 6, 7, 8, 9, 10, 11, 12, 13, 14, 15, 16, 17, 18, 19, 20, 21, 22, 23, 24, 25, 26, 27, 28, 29, 30, 31, 32, 33, 34, 35, 36, 37, 38, 39, 40, 41, 42, 43, 44, 45, 46, 47, 48, 49, 50, 51, 52, 53, 54, 55, 56, 57, 58, 59, 60, 61, 62, 63, 64, 65, 66, 67, 68, 69, 70, 71, 72, 73, 74, 75, 76, 77, 78, 79, 80, 81, 82, 83, 84, 85, 86, 87, 88, 89, 90, 91, 92, 93, 94, 95, 96, 97, 98, 99]}}, \"type\": \"ColumnDataSource\", \"id\": \"eae573ae-e4c8-487d-933b-21c70e2a7a11\"}, {\"attributes\": {\"plot\": {\"subtype\": \"Figure\", \"type\": \"Plot\", \"id\": \"0783111d-813d-4149-9bee-bcf6ebe961c3\"}}, \"type\": \"HelpTool\", \"id\": \"3757498d-aa6f-48fc-8c88-3ebf4ea9ef06\"}, {\"attributes\": {\"plot\": {\"subtype\": \"Figure\", \"type\": \"Plot\", \"id\": \"61fda1db-ca04-43fb-80cd-fa9bfc815dc9\"}, \"ticker\": {\"type\": \"BasicTicker\", \"id\": \"7f8b9336-6929-4f88-8ff1-e76076265700\"}, \"dimension\": 1}, \"type\": \"Grid\", \"id\": \"0a7ab529-b671-401a-ad86-49f8cc9ecdce\"}, {\"attributes\": {\"plot\": {\"subtype\": \"Figure\", \"type\": \"Plot\", \"id\": \"d8602afd-fe0d-4f5a-9fde-5bf046effd59\"}, \"formatter\": {\"type\": \"BasicTickFormatter\", \"id\": \"9961eb2d-6160-464f-b450-86c8c9bc32df\"}, \"ticker\": {\"type\": \"BasicTicker\", \"id\": \"dbdb5c53-98a2-444a-af9e-8da8930d8937\"}}, \"type\": \"LinearAxis\", \"id\": \"6f2dafe2-512f-47f6-aedd-338c18313bb5\"}, {\"attributes\": {\"nonselection_glyph\": {\"type\": \"Line\", \"id\": \"584012a1-3c06-4f27-89d8-a2d5f8a7bf34\"}, \"data_source\": {\"type\": \"ColumnDataSource\", \"id\": \"311376a7-3893-43f1-84ee-c535c2f37fed\"}, \"selection_glyph\": null, \"hover_glyph\": null, \"glyph\": {\"type\": \"Line\", \"id\": \"3199f9f5-5313-419b-b2cf-a28f2a5163fd\"}}, \"type\": \"GlyphRenderer\", \"id\": \"df2a9d8b-d787-4984-a06f-8e8aa3b99e3d\"}, {\"attributes\": {\"plot\": {\"subtype\": \"Figure\", \"type\": \"Plot\", \"id\": \"abec6eff-0bef-4274-8388-c8117c8757a2\"}}, \"type\": \"PanTool\", \"id\": \"9ded256c-d16a-4721-960c-46f1614513c0\"}, {\"attributes\": {\"line_color\": {\"value\": \"#1f77b4\"}, \"line_alpha\": {\"value\": 0.1}, \"y\": {\"field\": \"y\"}, \"x\": {\"field\": \"x\"}}, \"type\": \"Line\", \"id\": \"2eaff7cf-2c7e-4ec0-a2b8-9685f1b66b7d\"}, {\"attributes\": {\"x_range\": {\"type\": \"DataRange1d\", \"id\": \"ffe5b85b-6d69-4945-893b-6441980a8269\"}, \"y_range\": {\"type\": \"DataRange1d\", \"id\": \"bd38397a-3ecb-46d1-9fa3-2437c55fa6c7\"}, \"renderers\": [{\"type\": \"LinearAxis\", \"id\": \"6ae8ad6c-e3ef-4ca9-b465-63f77d9561d8\"}, {\"type\": \"Grid\", \"id\": \"ef8e99a2-2c2b-49bc-a7f3-b37e833cff9b\"}, {\"type\": \"LinearAxis\", \"id\": \"2de019d3-2918-4776-bad9-3e2735ec4775\"}, {\"type\": \"Grid\", \"id\": \"3be169b1-4be1-4922-91ad-e23eeb1b2b94\"}, {\"type\": \"BoxAnnotation\", \"id\": \"5830f25d-3aa5-4089-b3b7-fd1a8d0fbd9f\"}, {\"type\": \"GlyphRenderer\", \"id\": \"df2a9d8b-d787-4984-a06f-8e8aa3b99e3d\"}], \"below\": [{\"type\": \"LinearAxis\", \"id\": \"6ae8ad6c-e3ef-4ca9-b465-63f77d9561d8\"}], \"tool_events\": {\"type\": \"ToolEvents\", \"id\": \"69a6f715-3283-467e-aab2-29a584bce85d\"}, \"tools\": [{\"type\": \"PanTool\", \"id\": \"13ff1bde-e618-4ad4-8d1a-c8341be4922f\"}, {\"type\": \"WheelZoomTool\", \"id\": \"cdc9d6c2-a641-440c-b9d6-c0f4788c78d5\"}, {\"type\": \"BoxZoomTool\", \"id\": \"78639bff-2df2-426d-a3ae-0c45dc65df69\"}, {\"type\": \"PreviewSaveTool\", \"id\": \"1ca3e9ae-ab6b-42d8-9a5e-746f0a2950bf\"}, {\"type\": \"ResizeTool\", \"id\": \"2b744a70-bd10-4d12-a88e-eb3dffd989cd\"}, {\"type\": \"ResetTool\", \"id\": \"b87719bd-4346-42d5-aba0-1f1ce5224945\"}, {\"type\": \"HelpTool\", \"id\": \"6bcf4054-c0b6-4af5-80f4-c17622ad4130\"}], \"left\": [{\"type\": \"LinearAxis\", \"id\": \"2de019d3-2918-4776-bad9-3e2735ec4775\"}]}, \"type\": \"Plot\", \"id\": \"561396b7-cfdf-4161-a232-fa34a8366832\", \"subtype\": \"Figure\"}, {\"attributes\": {\"plot\": {\"subtype\": \"Figure\", \"type\": \"Plot\", \"id\": \"61fda1db-ca04-43fb-80cd-fa9bfc815dc9\"}}, \"type\": \"HelpTool\", \"id\": \"d9037a2c-9186-478e-93d2-3436a1bff0a1\"}, {\"attributes\": {\"line_color\": {\"value\": \"black\"}, \"line_alpha\": {\"value\": 1.0}, \"render_mode\": \"css\", \"bottom_units\": \"screen\", \"level\": \"overlay\", \"top_units\": \"screen\", \"fill_alpha\": {\"value\": 0.5}, \"plot\": null, \"left_units\": \"screen\", \"line_dash\": [4, 4], \"line_width\": {\"value\": 2}, \"right_units\": \"screen\", \"fill_color\": {\"value\": \"lightgrey\"}}, \"type\": \"BoxAnnotation\", \"id\": \"14fb20a1-d939-4fab-9ee3-463ca02973ee\"}, {\"attributes\": {\"callback\": null, \"column_names\": [\"y\", \"x\"], \"data\": {\"y\": [0], \"x\": [0, 1, 2, 3, 4, 5, 6, 7, 8, 9, 10, 11, 12, 13, 14, 15, 16, 17, 18, 19, 20, 21, 22, 23, 24, 25, 26, 27, 28, 29, 30, 31, 32, 33, 34, 35, 36, 37, 38, 39, 40, 41, 42, 43, 44, 45, 46, 47, 48, 49, 50, 51, 52, 53, 54, 55, 56, 57, 58, 59, 60, 61, 62, 63, 64, 65, 66, 67, 68, 69, 70, 71, 72, 73, 74, 75, 76, 77, 78, 79, 80, 81, 82, 83, 84, 85, 86, 87, 88, 89, 90, 91, 92, 93, 94, 95, 96, 97, 98, 99]}}, \"type\": \"ColumnDataSource\", \"id\": \"311376a7-3893-43f1-84ee-c535c2f37fed\"}, {\"attributes\": {\"callback\": null}, \"type\": \"DataRange1d\", \"id\": \"4a349ab4-3259-4d2b-a51b-f747435125d4\"}, {\"attributes\": {\"plot\": {\"subtype\": \"Figure\", \"type\": \"Plot\", \"id\": \"c2bc6458-6f4f-4ff1-8c87-dbf40fdf04d3\"}}, \"type\": \"ResizeTool\", \"id\": \"36de0572-71d9-42d8-89fe-a312159563ae\"}, {\"attributes\": {\"plot\": {\"subtype\": \"Figure\", \"type\": \"Plot\", \"id\": \"561396b7-cfdf-4161-a232-fa34a8366832\"}}, \"type\": \"WheelZoomTool\", \"id\": \"cdc9d6c2-a641-440c-b9d6-c0f4788c78d5\"}, {\"attributes\": {\"plot\": {\"subtype\": \"Figure\", \"type\": \"Plot\", \"id\": \"abec6eff-0bef-4274-8388-c8117c8757a2\"}, \"overlay\": {\"type\": \"BoxAnnotation\", \"id\": \"3d827a60-728e-4dbc-8968-769987d0b0b3\"}}, \"type\": \"BoxZoomTool\", \"id\": \"2dcbfddf-871d-4c4f-ab6d-ed56380b5225\"}, {\"attributes\": {}, \"type\": \"BasicTicker\", \"id\": \"fbb1de51-5e27-4537-bb68-44bb973aaf42\"}, {\"attributes\": {\"callback\": null}, \"type\": \"DataRange1d\", \"id\": \"9a454352-cf66-48c8-ae44-ffb58aaad064\"}, {\"attributes\": {\"nonselection_glyph\": {\"type\": \"Line\", \"id\": \"08576c32-3728-4db2-8dd1-062c6bdf9be6\"}, \"data_source\": {\"type\": \"ColumnDataSource\", \"id\": \"a67e0260-157a-468c-9ddb-8418dd3adcd5\"}, \"selection_glyph\": null, \"hover_glyph\": null, \"glyph\": {\"type\": \"Line\", \"id\": \"1ad989e6-2977-4876-b2f8-0cf4ddbecb4e\"}}, \"type\": \"GlyphRenderer\", \"id\": \"bf53b1a7-7a57-47fa-8158-5194d3368c6b\"}, {\"attributes\": {\"plot\": {\"subtype\": \"Figure\", \"type\": \"Plot\", \"id\": \"61fda1db-ca04-43fb-80cd-fa9bfc815dc9\"}}, \"type\": \"ResetTool\", \"id\": \"0d4bdb7b-2692-4b58-9c37-cf6a7a7fe56c\"}, {\"attributes\": {\"callback\": null}, \"type\": \"DataRange1d\", \"id\": \"bd38397a-3ecb-46d1-9fa3-2437c55fa6c7\"}, {\"attributes\": {}, \"type\": \"BasicTicker\", \"id\": \"dbdb5c53-98a2-444a-af9e-8da8930d8937\"}, {\"attributes\": {\"plot\": {\"subtype\": \"Figure\", \"type\": \"Plot\", \"id\": \"0783111d-813d-4149-9bee-bcf6ebe961c3\"}}, \"type\": \"ResizeTool\", \"id\": \"a87c56c6-32cb-46fa-a6bf-45aac5889aaf\"}, {\"attributes\": {}, \"type\": \"BasicTicker\", \"id\": \"d112f639-37a9-4d5e-a4d8-01ef9977719b\"}, {\"attributes\": {\"x_range\": {\"type\": \"DataRange1d\", \"id\": \"ed720342-8016-4251-ae89-b716c28ac1c8\"}, \"y_range\": {\"type\": \"DataRange1d\", \"id\": \"dc0e0732-6ad5-4283-898c-a198b94c5658\"}, \"renderers\": [{\"type\": \"LinearAxis\", \"id\": \"1e4024f6-7c6d-4fea-9032-a772486ead7d\"}, {\"type\": \"Grid\", \"id\": \"eb99a8ee-b2c4-49db-854d-2cc9e75a125a\"}, {\"type\": \"LinearAxis\", \"id\": \"cf934f12-3ceb-436d-b943-ab761ddd6c77\"}, {\"type\": \"Grid\", \"id\": \"c06f1061-f5c9-4f30-970d-89b5e295f09c\"}, {\"type\": \"BoxAnnotation\", \"id\": \"ceda06e5-4e6d-4946-9258-bc6d1d3c5a76\"}, {\"type\": \"GlyphRenderer\", \"id\": \"1a6a4cc1-c13b-4011-9ec8-5a7a0ae6bc9d\"}], \"below\": [{\"type\": \"LinearAxis\", \"id\": \"1e4024f6-7c6d-4fea-9032-a772486ead7d\"}], \"tool_events\": {\"type\": \"ToolEvents\", \"id\": \"795ee928-91d4-4767-9c13-cc45dd29d6f9\"}, \"tools\": [{\"type\": \"PanTool\", \"id\": \"30a549a2-7f55-448b-bfd9-893fa6a84697\"}, {\"type\": \"WheelZoomTool\", \"id\": \"38212435-d102-4bcf-96a9-3e612a3c69c5\"}, {\"type\": \"BoxZoomTool\", \"id\": \"9df4f3dc-ad25-491c-8342-c2f5980b5c0c\"}, {\"type\": \"PreviewSaveTool\", \"id\": \"c661fd00-74d4-4d3c-b895-c3ed077da9c9\"}, {\"type\": \"ResizeTool\", \"id\": \"37c9d9d8-1056-453a-801d-c224d7aad4ec\"}, {\"type\": \"ResetTool\", \"id\": \"fa7f7256-a0bc-428c-9403-69570fd9d426\"}, {\"type\": \"HelpTool\", \"id\": \"551ccd51-ac83-4624-8ca3-706ce699650c\"}], \"left\": [{\"type\": \"LinearAxis\", \"id\": \"cf934f12-3ceb-436d-b943-ab761ddd6c77\"}]}, \"type\": \"Plot\", \"id\": \"8bdd3273-9213-4911-9ea5-6f5236cfb42b\", \"subtype\": \"Figure\"}, {\"attributes\": {}, \"type\": \"BasicTicker\", \"id\": \"b7afefdc-2172-42ef-a7b3-f2554a0f6d85\"}, {\"attributes\": {\"x_range\": {\"type\": \"DataRange1d\", \"id\": \"4a349ab4-3259-4d2b-a51b-f747435125d4\"}, \"y_range\": {\"type\": \"DataRange1d\", \"id\": \"45e4eb93-f9a0-4c74-a789-e4eabb76e158\"}, \"renderers\": [{\"type\": \"LinearAxis\", \"id\": \"31577af9-0206-4e0e-84ce-47e977a1a15f\"}, {\"type\": \"Grid\", \"id\": \"b0cd4bb4-d418-41ce-ae0e-318b04d391ab\"}, {\"type\": \"LinearAxis\", \"id\": \"fcc47675-5b12-4d65-ac98-de6761f46d2e\"}, {\"type\": \"Grid\", \"id\": \"4409d276-da6b-4cf5-980f-3f27f7a39295\"}, {\"type\": \"BoxAnnotation\", \"id\": \"3d827a60-728e-4dbc-8968-769987d0b0b3\"}, {\"type\": \"GlyphRenderer\", \"id\": \"6c251d18-9580-43fa-a99d-4fd076dd58ea\"}], \"below\": [{\"type\": \"LinearAxis\", \"id\": \"31577af9-0206-4e0e-84ce-47e977a1a15f\"}], \"tool_events\": {\"type\": \"ToolEvents\", \"id\": \"b7a70de6-6881-4b46-888d-b41340fc37cb\"}, \"tools\": [{\"type\": \"PanTool\", \"id\": \"9ded256c-d16a-4721-960c-46f1614513c0\"}, {\"type\": \"WheelZoomTool\", \"id\": \"3408b03f-cc88-43d8-b8ca-a950e4cc2af5\"}, {\"type\": \"BoxZoomTool\", \"id\": \"2dcbfddf-871d-4c4f-ab6d-ed56380b5225\"}, {\"type\": \"PreviewSaveTool\", \"id\": \"a0d95e02-01d2-440b-96c9-e528ce05f8b1\"}, {\"type\": \"ResizeTool\", \"id\": \"65d88852-7784-4335-8e3e-0627fa64e9c9\"}, {\"type\": \"ResetTool\", \"id\": \"311f2464-174a-485f-adf8-a02060880f6d\"}, {\"type\": \"HelpTool\", \"id\": \"215f2c12-5222-4f2b-8460-c1634408adc1\"}], \"left\": [{\"type\": \"LinearAxis\", \"id\": \"fcc47675-5b12-4d65-ac98-de6761f46d2e\"}]}, \"type\": \"Plot\", \"id\": \"abec6eff-0bef-4274-8388-c8117c8757a2\", \"subtype\": \"Figure\"}, {\"attributes\": {\"callback\": null}, \"type\": \"DataRange1d\", \"id\": \"dc0e0732-6ad5-4283-898c-a198b94c5658\"}, {\"attributes\": {}, \"type\": \"ToolEvents\", \"id\": \"69a6f715-3283-467e-aab2-29a584bce85d\"}, {\"attributes\": {\"plot\": {\"subtype\": \"Figure\", \"type\": \"Plot\", \"id\": \"951cbcc0-ed9a-4e44-967f-5e063370220f\"}}, \"type\": \"WheelZoomTool\", \"id\": \"17b5272b-22b0-4b31-928b-7beaab8fbafc\"}, {\"attributes\": {\"plot\": {\"subtype\": \"Figure\", \"type\": \"Plot\", \"id\": \"561396b7-cfdf-4161-a232-fa34a8366832\"}}, \"type\": \"PanTool\", \"id\": \"13ff1bde-e618-4ad4-8d1a-c8341be4922f\"}, {\"attributes\": {}, \"type\": \"BasicTicker\", \"id\": \"3906380b-6720-437f-b8c8-f103db45bc47\"}, {\"attributes\": {\"plot\": {\"subtype\": \"Figure\", \"type\": \"Plot\", \"id\": \"d8602afd-fe0d-4f5a-9fde-5bf046effd59\"}, \"ticker\": {\"type\": \"BasicTicker\", \"id\": \"dbdb5c53-98a2-444a-af9e-8da8930d8937\"}}, \"type\": \"Grid\", \"id\": \"a5ccdd48-e145-4d6f-84cd-185a7ca0995a\"}, {\"attributes\": {\"plot\": {\"subtype\": \"Figure\", \"type\": \"Plot\", \"id\": \"abec6eff-0bef-4274-8388-c8117c8757a2\"}}, \"type\": \"HelpTool\", \"id\": \"215f2c12-5222-4f2b-8460-c1634408adc1\"}, {\"attributes\": {\"callback\": null}, \"type\": \"DataRange1d\", \"id\": \"ed720342-8016-4251-ae89-b716c28ac1c8\"}, {\"attributes\": {}, \"type\": \"BasicTicker\", \"id\": \"36b5cba6-a747-4777-aa9b-e3b3f52cd85b\"}, {\"attributes\": {\"callback\": null}, \"type\": \"DataRange1d\", \"id\": \"45e4eb93-f9a0-4c74-a789-e4eabb76e158\"}, {\"attributes\": {\"plot\": {\"subtype\": \"Figure\", \"type\": \"Plot\", \"id\": \"951cbcc0-ed9a-4e44-967f-5e063370220f\"}, \"formatter\": {\"type\": \"BasicTickFormatter\", \"id\": \"17f9fb40-dbb0-463b-89ff-6d39fd234d09\"}, \"ticker\": {\"type\": \"BasicTicker\", \"id\": \"d112f639-37a9-4d5e-a4d8-01ef9977719b\"}}, \"type\": \"LinearAxis\", \"id\": \"6bfef538-35c3-48f9-a802-71912353b3e4\"}, {\"attributes\": {\"line_color\": {\"value\": \"#1f77b4\"}, \"x\": {\"field\": \"x\"}, \"y\": {\"field\": \"y\"}}, \"type\": \"Line\", \"id\": \"b3ac7449-65a4-431d-8ef2-8594fbe8ed98\"}, {\"attributes\": {\"plot\": {\"subtype\": \"Figure\", \"type\": \"Plot\", \"id\": \"8bdd3273-9213-4911-9ea5-6f5236cfb42b\"}, \"ticker\": {\"type\": \"BasicTicker\", \"id\": \"967952be-9a00-4053-aa99-3f482ef5c4c9\"}, \"dimension\": 1}, \"type\": \"Grid\", \"id\": \"c06f1061-f5c9-4f30-970d-89b5e295f09c\"}, {\"attributes\": {\"plot\": {\"subtype\": \"Figure\", \"type\": \"Plot\", \"id\": \"951cbcc0-ed9a-4e44-967f-5e063370220f\"}, \"ticker\": {\"type\": \"BasicTicker\", \"id\": \"d112f639-37a9-4d5e-a4d8-01ef9977719b\"}, \"dimension\": 1}, \"type\": \"Grid\", \"id\": \"45d114ee-d0d5-408c-bb9d-7f6cb17eb514\"}, {\"attributes\": {\"line_color\": {\"value\": \"black\"}, \"line_alpha\": {\"value\": 1.0}, \"render_mode\": \"css\", \"bottom_units\": \"screen\", \"level\": \"overlay\", \"top_units\": \"screen\", \"fill_alpha\": {\"value\": 0.5}, \"plot\": null, \"left_units\": \"screen\", \"line_dash\": [4, 4], \"line_width\": {\"value\": 2}, \"right_units\": \"screen\", \"fill_color\": {\"value\": \"lightgrey\"}}, \"type\": \"BoxAnnotation\", \"id\": \"3d827a60-728e-4dbc-8968-769987d0b0b3\"}, {\"attributes\": {\"plot\": {\"subtype\": \"Figure\", \"type\": \"Plot\", \"id\": \"8bdd3273-9213-4911-9ea5-6f5236cfb42b\"}}, \"type\": \"PreviewSaveTool\", \"id\": \"c661fd00-74d4-4d3c-b895-c3ed077da9c9\"}, {\"attributes\": {\"plot\": {\"subtype\": \"Figure\", \"type\": \"Plot\", \"id\": \"561396b7-cfdf-4161-a232-fa34a8366832\"}}, \"type\": \"PreviewSaveTool\", \"id\": \"1ca3e9ae-ab6b-42d8-9a5e-746f0a2950bf\"}, {\"attributes\": {}, \"type\": \"BasicTickFormatter\", \"id\": \"cec18570-58be-4cd1-974f-2a4857476858\"}, {\"attributes\": {\"plot\": {\"subtype\": \"Figure\", \"type\": \"Plot\", \"id\": \"abec6eff-0bef-4274-8388-c8117c8757a2\"}, \"formatter\": {\"type\": \"BasicTickFormatter\", \"id\": \"ada4d700-4d25-4e9e-8f69-0b9d1b4aade3\"}, \"ticker\": {\"type\": \"BasicTicker\", \"id\": \"9b5b6ea6-0c10-4089-abd3-4e7c150d0325\"}}, \"type\": \"LinearAxis\", \"id\": \"fcc47675-5b12-4d65-ac98-de6761f46d2e\"}, {\"attributes\": {\"line_color\": {\"value\": \"black\"}, \"line_alpha\": {\"value\": 1.0}, \"render_mode\": \"css\", \"bottom_units\": \"screen\", \"level\": \"overlay\", \"top_units\": \"screen\", \"fill_alpha\": {\"value\": 0.5}, \"plot\": null, \"left_units\": \"screen\", \"line_dash\": [4, 4], \"line_width\": {\"value\": 2}, \"right_units\": \"screen\", \"fill_color\": {\"value\": \"lightgrey\"}}, \"type\": \"BoxAnnotation\", \"id\": \"c5470dcc-5cfe-4623-81d7-c655da0c5e70\"}, {\"attributes\": {\"plot\": {\"subtype\": \"Figure\", \"type\": \"Plot\", \"id\": \"65f58ab1-69c9-4100-bbff-dacf37e8639a\"}}, \"type\": \"WheelZoomTool\", \"id\": \"1e70db7c-53b3-4cb6-bd08-78202fc17057\"}, {\"attributes\": {\"plot\": {\"subtype\": \"Figure\", \"type\": \"Plot\", \"id\": \"65f58ab1-69c9-4100-bbff-dacf37e8639a\"}, \"formatter\": {\"type\": \"BasicTickFormatter\", \"id\": \"5b704935-16b3-4881-8ad0-99d5778c77e0\"}, \"ticker\": {\"type\": \"BasicTicker\", \"id\": \"f114f9a1-8d0f-423a-89d0-fa5bd823ef82\"}}, \"type\": \"LinearAxis\", \"id\": \"5b0c4a84-af4f-40dd-b209-6e999b1fbf94\"}, {\"attributes\": {}, \"type\": \"ToolEvents\", \"id\": \"9f27ffc2-8ca2-47df-a2e2-c08792aca910\"}, {\"attributes\": {\"plot\": {\"subtype\": \"Figure\", \"type\": \"Plot\", \"id\": \"4cbd32ec-6c7f-42f1-a23b-d56e4127e4bf\"}}, \"type\": \"ResizeTool\", \"id\": \"ff03babf-02bd-4e42-8fb8-743b54b4d673\"}, {\"attributes\": {\"callback\": null, \"column_names\": [\"y\", \"x\"], \"data\": {\"y\": [0], \"x\": [0, 1, 2, 3, 4, 5, 6, 7, 8, 9, 10, 11, 12, 13, 14, 15, 16, 17, 18, 19, 20, 21, 22, 23, 24, 25, 26, 27, 28, 29, 30, 31, 32, 33, 34, 35, 36, 37, 38, 39, 40, 41, 42, 43, 44, 45, 46, 47, 48, 49, 50, 51, 52, 53, 54, 55, 56, 57, 58, 59, 60, 61, 62, 63, 64, 65, 66, 67, 68, 69, 70, 71, 72, 73, 74, 75, 76, 77, 78, 79, 80, 81, 82, 83, 84, 85, 86, 87, 88, 89, 90, 91, 92, 93, 94, 95, 96, 97, 98, 99]}}, \"type\": \"ColumnDataSource\", \"id\": \"4f609cdb-d20a-40f4-9592-8227318e32a2\"}, {\"attributes\": {}, \"type\": \"BasicTickFormatter\", \"id\": \"f3007699-4841-4994-82a4-50b4975f627f\"}, {\"attributes\": {\"line_color\": {\"value\": \"#1f77b4\"}, \"line_alpha\": {\"value\": 0.1}, \"y\": {\"field\": \"y\"}, \"x\": {\"field\": \"x\"}}, \"type\": \"Line\", \"id\": \"613da23a-d01a-4f32-9c57-b81a5dce2fdf\"}, {\"attributes\": {}, \"type\": \"ToolEvents\", \"id\": \"8a4ef2cd-7196-44c5-ab74-99e020bc814d\"}, {\"attributes\": {}, \"type\": \"BasicTicker\", \"id\": \"92c73f6f-b081-4f38-8d26-a840085b587b\"}, {\"attributes\": {\"line_color\": {\"value\": \"#1f77b4\"}, \"line_alpha\": {\"value\": 0.1}, \"y\": {\"field\": \"y\"}, \"x\": {\"field\": \"x\"}}, \"type\": \"Line\", \"id\": \"868d31d4-8c5e-4b10-b989-052940fb6779\"}, {\"attributes\": {\"plot\": {\"subtype\": \"Figure\", \"type\": \"Plot\", \"id\": \"c2bc6458-6f4f-4ff1-8c87-dbf40fdf04d3\"}, \"ticker\": {\"type\": \"BasicTicker\", \"id\": \"d9d3deec-6554-4f97-9340-cbd80671d36d\"}, \"dimension\": 1}, \"type\": \"Grid\", \"id\": \"29efe14c-2540-473f-b043-5d5a4338c6bb\"}, {\"attributes\": {\"plot\": {\"subtype\": \"Figure\", \"type\": \"Plot\", \"id\": \"61fda1db-ca04-43fb-80cd-fa9bfc815dc9\"}}, \"type\": \"ResizeTool\", \"id\": \"a0c84384-66a8-4ab0-ab57-6640122b589e\"}, {\"attributes\": {\"plot\": {\"subtype\": \"Figure\", \"type\": \"Plot\", \"id\": \"8bdd3273-9213-4911-9ea5-6f5236cfb42b\"}, \"formatter\": {\"type\": \"BasicTickFormatter\", \"id\": \"1c4f1cd8-74b7-42cd-bd7e-cee59a744164\"}, \"ticker\": {\"type\": \"BasicTicker\", \"id\": \"967952be-9a00-4053-aa99-3f482ef5c4c9\"}}, \"type\": \"LinearAxis\", \"id\": \"cf934f12-3ceb-436d-b943-ab761ddd6c77\"}, {\"attributes\": {\"plot\": {\"subtype\": \"Figure\", \"type\": \"Plot\", \"id\": \"0783111d-813d-4149-9bee-bcf6ebe961c3\"}}, \"type\": \"PreviewSaveTool\", \"id\": \"875f38fb-e5b7-4363-8a80-c94c569315df\"}, {\"attributes\": {\"plot\": {\"subtype\": \"Figure\", \"type\": \"Plot\", \"id\": \"561396b7-cfdf-4161-a232-fa34a8366832\"}, \"formatter\": {\"type\": \"BasicTickFormatter\", \"id\": \"f3007699-4841-4994-82a4-50b4975f627f\"}, \"ticker\": {\"type\": \"BasicTicker\", \"id\": \"e45f3e53-9d35-4a8e-a6f9-192ba76d793d\"}}, \"type\": \"LinearAxis\", \"id\": \"6ae8ad6c-e3ef-4ca9-b465-63f77d9561d8\"}, {\"attributes\": {\"line_color\": {\"value\": \"#1f77b4\"}, \"line_alpha\": {\"value\": 0.1}, \"y\": {\"field\": \"y\"}, \"x\": {\"field\": \"x\"}}, \"type\": \"Line\", \"id\": \"42b0878b-f0c5-49e3-9345-5b768229a2bd\"}, {\"attributes\": {}, \"type\": \"BasicTickFormatter\", \"id\": \"a847d25c-f1a5-4970-a034-fe5187ebc77b\"}, {\"attributes\": {\"plot\": {\"subtype\": \"Figure\", \"type\": \"Plot\", \"id\": \"4cbd32ec-6c7f-42f1-a23b-d56e4127e4bf\"}, \"ticker\": {\"type\": \"BasicTicker\", \"id\": \"3906380b-6720-437f-b8c8-f103db45bc47\"}}, \"type\": \"Grid\", \"id\": \"cbc1128b-9984-4dc8-b52e-123b463d26d3\"}, {\"attributes\": {}, \"type\": \"BasicTicker\", \"id\": \"9f228b04-c867-4139-9041-3641c4eeb7af\"}, {\"attributes\": {\"callback\": null}, \"type\": \"DataRange1d\", \"id\": \"a1631222-8fed-434b-98b5-d246853e1a7d\"}, {\"attributes\": {}, \"type\": \"BasicTicker\", \"id\": \"7f8b9336-6929-4f88-8ff1-e76076265700\"}, {\"attributes\": {\"plot\": {\"subtype\": \"Figure\", \"type\": \"Plot\", \"id\": \"951cbcc0-ed9a-4e44-967f-5e063370220f\"}}, \"type\": \"ResizeTool\", \"id\": \"15ab6899-6bf0-404a-82db-b8b9627d49f1\"}, {\"attributes\": {\"nonselection_glyph\": {\"type\": \"Line\", \"id\": \"42b0878b-f0c5-49e3-9345-5b768229a2bd\"}, \"data_source\": {\"type\": \"ColumnDataSource\", \"id\": \"eae573ae-e4c8-487d-933b-21c70e2a7a11\"}, \"selection_glyph\": null, \"hover_glyph\": null, \"glyph\": {\"type\": \"Line\", \"id\": \"46f2d5ce-2cce-4a92-af6b-c57de04e00f3\"}}, \"type\": \"GlyphRenderer\", \"id\": \"dde5084d-d469-4caf-963b-fea09dbcb7fc\"}, {\"attributes\": {\"plot\": {\"subtype\": \"Figure\", \"type\": \"Plot\", \"id\": \"8bdd3273-9213-4911-9ea5-6f5236cfb42b\"}, \"formatter\": {\"type\": \"BasicTickFormatter\", \"id\": \"d849b7f7-e143-45de-a3e2-a52740f75a24\"}, \"ticker\": {\"type\": \"BasicTicker\", \"id\": \"92c73f6f-b081-4f38-8d26-a840085b587b\"}}, \"type\": \"LinearAxis\", \"id\": \"1e4024f6-7c6d-4fea-9032-a772486ead7d\"}, {\"attributes\": {\"plot\": {\"subtype\": \"Figure\", \"type\": \"Plot\", \"id\": \"4cbd32ec-6c7f-42f1-a23b-d56e4127e4bf\"}, \"overlay\": {\"type\": \"BoxAnnotation\", \"id\": \"ad3afb6b-16db-4a76-b6fa-f896053cf8a6\"}}, \"type\": \"BoxZoomTool\", \"id\": \"1b99a4c7-e85b-49a2-ba24-786b40fc9397\"}, {\"attributes\": {\"nonselection_glyph\": {\"type\": \"Line\", \"id\": \"613da23a-d01a-4f32-9c57-b81a5dce2fdf\"}, \"data_source\": {\"type\": \"ColumnDataSource\", \"id\": \"85f2eec6-cbad-4fb5-9306-744e2bc838f6\"}, \"selection_glyph\": null, \"hover_glyph\": null, \"glyph\": {\"type\": \"Line\", \"id\": \"ed5ee99c-8e5d-477d-a098-270b72aff561\"}}, \"type\": \"GlyphRenderer\", \"id\": \"1a6a4cc1-c13b-4011-9ec8-5a7a0ae6bc9d\"}, {\"attributes\": {\"plot\": {\"subtype\": \"Figure\", \"type\": \"Plot\", \"id\": \"8bdd3273-9213-4911-9ea5-6f5236cfb42b\"}}, \"type\": \"ResizeTool\", \"id\": \"37c9d9d8-1056-453a-801d-c224d7aad4ec\"}, {\"attributes\": {\"plot\": {\"subtype\": \"Figure\", \"type\": \"Plot\", \"id\": \"561396b7-cfdf-4161-a232-fa34a8366832\"}}, \"type\": \"HelpTool\", \"id\": \"6bcf4054-c0b6-4af5-80f4-c17622ad4130\"}, {\"attributes\": {\"callback\": null}, \"type\": \"DataRange1d\", \"id\": \"cf3dca57-696a-4ebb-b051-102817bc1329\"}, {\"attributes\": {\"nonselection_glyph\": {\"type\": \"Line\", \"id\": \"24683b07-5f9a-46b0-a148-bcb90572bae9\"}, \"data_source\": {\"type\": \"ColumnDataSource\", \"id\": \"315bf639-7457-4173-998a-73fbbb6b95cc\"}, \"selection_glyph\": null, \"hover_glyph\": null, \"glyph\": {\"type\": \"Line\", \"id\": \"71a6fabf-9201-4673-a726-b2df3a909c84\"}}, \"type\": \"GlyphRenderer\", \"id\": \"6c251d18-9580-43fa-a99d-4fd076dd58ea\"}, {\"attributes\": {\"plot\": {\"subtype\": \"Figure\", \"type\": \"Plot\", \"id\": \"561396b7-cfdf-4161-a232-fa34a8366832\"}, \"ticker\": {\"type\": \"BasicTicker\", \"id\": \"e45f3e53-9d35-4a8e-a6f9-192ba76d793d\"}}, \"type\": \"Grid\", \"id\": \"ef8e99a2-2c2b-49bc-a7f3-b37e833cff9b\"}, {\"attributes\": {\"plot\": {\"subtype\": \"Figure\", \"type\": \"Plot\", \"id\": \"0783111d-813d-4149-9bee-bcf6ebe961c3\"}, \"ticker\": {\"type\": \"BasicTicker\", \"id\": \"36b47784-3f1f-45ee-8e1c-3a111b71d2a7\"}, \"dimension\": 1}, \"type\": \"Grid\", \"id\": \"0c59937b-5d85-4050-8aee-707680e07308\"}, {\"attributes\": {}, \"type\": \"BasicTicker\", \"id\": \"9b5b6ea6-0c10-4089-abd3-4e7c150d0325\"}, {\"attributes\": {}, \"type\": \"BasicTickFormatter\", \"id\": \"560c8701-8e9f-42ff-bbdb-3d2ca3c4e9ba\"}, {\"attributes\": {\"plot\": {\"subtype\": \"Figure\", \"type\": \"Plot\", \"id\": \"d8602afd-fe0d-4f5a-9fde-5bf046effd59\"}}, \"type\": \"PreviewSaveTool\", \"id\": \"616c97b9-d117-435e-b4a7-6a4a714d505b\"}, {\"attributes\": {\"line_color\": {\"value\": \"black\"}, \"line_alpha\": {\"value\": 1.0}, \"render_mode\": \"css\", \"bottom_units\": \"screen\", \"level\": \"overlay\", \"top_units\": \"screen\", \"fill_alpha\": {\"value\": 0.5}, \"plot\": null, \"left_units\": \"screen\", \"line_dash\": [4, 4], \"line_width\": {\"value\": 2}, \"right_units\": \"screen\", \"fill_color\": {\"value\": \"lightgrey\"}}, \"type\": \"BoxAnnotation\", \"id\": \"700b72e6-31e8-4ba9-8096-ef156d461dae\"}, {\"attributes\": {}, \"type\": \"BasicTicker\", \"id\": \"36b47784-3f1f-45ee-8e1c-3a111b71d2a7\"}, {\"attributes\": {}, \"type\": \"BasicTickFormatter\", \"id\": \"2a97697a-8216-4de1-96cf-263ac712fd34\"}, {\"attributes\": {\"plot\": {\"subtype\": \"Figure\", \"type\": \"Plot\", \"id\": \"61fda1db-ca04-43fb-80cd-fa9bfc815dc9\"}, \"formatter\": {\"type\": \"BasicTickFormatter\", \"id\": \"73be0615-9c51-4301-9d57-eec69949e5d4\"}, \"ticker\": {\"type\": \"BasicTicker\", \"id\": \"f4585a26-8d55-445a-872e-d38750f29158\"}}, \"type\": \"LinearAxis\", \"id\": \"1c7179da-fa3f-41c7-a14e-2ba8854c303e\"}, {\"attributes\": {\"plot\": {\"subtype\": \"Figure\", \"type\": \"Plot\", \"id\": \"abec6eff-0bef-4274-8388-c8117c8757a2\"}}, \"type\": \"WheelZoomTool\", \"id\": \"3408b03f-cc88-43d8-b8ca-a950e4cc2af5\"}, {\"attributes\": {\"plot\": {\"subtype\": \"Figure\", \"type\": \"Plot\", \"id\": \"4cbd32ec-6c7f-42f1-a23b-d56e4127e4bf\"}}, \"type\": \"WheelZoomTool\", \"id\": \"bd0c33b0-eba8-4cb4-b974-4a80f2a23259\"}, {\"attributes\": {\"line_color\": {\"value\": \"#1f77b4\"}, \"line_alpha\": {\"value\": 0.1}, \"y\": {\"field\": \"y\"}, \"x\": {\"field\": \"x\"}}, \"type\": \"Line\", \"id\": \"e63fcdd7-1729-40af-bbea-141fca9c3b11\"}, {\"attributes\": {\"plot\": {\"subtype\": \"Figure\", \"type\": \"Plot\", \"id\": \"65f58ab1-69c9-4100-bbff-dacf37e8639a\"}, \"formatter\": {\"type\": \"BasicTickFormatter\", \"id\": \"16377367-7f79-4d78-bc71-bd743bf26653\"}, \"ticker\": {\"type\": \"BasicTicker\", \"id\": \"4d949ea5-9365-4e77-8036-cc0fd402db18\"}}, \"type\": \"LinearAxis\", \"id\": \"877fd0cb-855a-4c3a-a35a-19f56c8fb054\"}, {\"attributes\": {\"plot\": {\"subtype\": \"Figure\", \"type\": \"Plot\", \"id\": \"abec6eff-0bef-4274-8388-c8117c8757a2\"}}, \"type\": \"PreviewSaveTool\", \"id\": \"a0d95e02-01d2-440b-96c9-e528ce05f8b1\"}, {\"attributes\": {\"nonselection_glyph\": {\"type\": \"Line\", \"id\": \"868d31d4-8c5e-4b10-b989-052940fb6779\"}, \"data_source\": {\"type\": \"ColumnDataSource\", \"id\": \"2725fc4e-2d66-49dd-b508-2c01d46fee81\"}, \"selection_glyph\": null, \"hover_glyph\": null, \"glyph\": {\"type\": \"Line\", \"id\": \"df09b78b-5778-4fda-a708-3bcffa059359\"}}, \"type\": \"GlyphRenderer\", \"id\": \"5907443e-c4d1-4c22-9bda-c3df8de6305e\"}, {\"attributes\": {\"callback\": null}, \"type\": \"DataRange1d\", \"id\": \"b223df80-1c5c-4aa2-912b-f2c558e7bb2e\"}, {\"attributes\": {\"plot\": {\"subtype\": \"Figure\", \"type\": \"Plot\", \"id\": \"d8602afd-fe0d-4f5a-9fde-5bf046effd59\"}, \"overlay\": {\"type\": \"BoxAnnotation\", \"id\": \"c5470dcc-5cfe-4623-81d7-c655da0c5e70\"}}, \"type\": \"BoxZoomTool\", \"id\": \"1b39c481-02bc-44dc-8c5a-5f4f06cfc584\"}, {\"attributes\": {\"plot\": {\"subtype\": \"Figure\", \"type\": \"Plot\", \"id\": \"c2bc6458-6f4f-4ff1-8c87-dbf40fdf04d3\"}}, \"type\": \"HelpTool\", \"id\": \"cc39e5eb-347d-46e1-b63c-894b07a4a91d\"}, {\"attributes\": {\"x_range\": {\"type\": \"DataRange1d\", \"id\": \"26f81563-3f6d-4a13-9514-7974f87b00a9\"}, \"y_range\": {\"type\": \"DataRange1d\", \"id\": \"c2813258-32ea-4532-a86e-fd82db4545c7\"}, \"renderers\": [{\"type\": \"LinearAxis\", \"id\": \"5b0c4a84-af4f-40dd-b209-6e999b1fbf94\"}, {\"type\": \"Grid\", \"id\": \"0cc41f8e-1d5b-4835-8415-661c35119fbd\"}, {\"type\": \"LinearAxis\", \"id\": \"877fd0cb-855a-4c3a-a35a-19f56c8fb054\"}, {\"type\": \"Grid\", \"id\": \"2b6186b8-682a-4d06-8190-2d39ae4a6a1b\"}, {\"type\": \"BoxAnnotation\", \"id\": \"14fb20a1-d939-4fab-9ee3-463ca02973ee\"}, {\"type\": \"GlyphRenderer\", \"id\": \"60f35fb2-3425-4c34-b954-d3e5fa0c7be4\"}], \"below\": [{\"type\": \"LinearAxis\", \"id\": \"5b0c4a84-af4f-40dd-b209-6e999b1fbf94\"}], \"tool_events\": {\"type\": \"ToolEvents\", \"id\": \"e0c52a59-3493-4843-9b07-3d98002d5667\"}, \"tools\": [{\"type\": \"PanTool\", \"id\": \"60b19bd1-e090-4091-95d3-f9531f1ee4a7\"}, {\"type\": \"WheelZoomTool\", \"id\": \"1e70db7c-53b3-4cb6-bd08-78202fc17057\"}, {\"type\": \"BoxZoomTool\", \"id\": \"3dac1756-50e0-402d-9041-0e6c9deb295f\"}, {\"type\": \"PreviewSaveTool\", \"id\": \"31f125c4-0a99-49ae-8909-257d333f7b11\"}, {\"type\": \"ResizeTool\", \"id\": \"3efdf533-7cd8-4be5-aaec-b765713ec172\"}, {\"type\": \"ResetTool\", \"id\": \"93e95477-978d-4e90-8e93-47ca3b3d2314\"}, {\"type\": \"HelpTool\", \"id\": \"e4929822-257b-4c1b-88d0-2dd6d1aca5d7\"}], \"left\": [{\"type\": \"LinearAxis\", \"id\": \"877fd0cb-855a-4c3a-a35a-19f56c8fb054\"}]}, \"type\": \"Plot\", \"id\": \"65f58ab1-69c9-4100-bbff-dacf37e8639a\", \"subtype\": \"Figure\"}, {\"attributes\": {\"x_range\": {\"type\": \"DataRange1d\", \"id\": \"26b681b9-44da-4085-9ef7-05024952895d\"}, \"y_range\": {\"type\": \"DataRange1d\", \"id\": \"c2ce516d-1b76-4ac1-823f-11da93f9d72f\"}, \"renderers\": [{\"type\": \"LinearAxis\", \"id\": \"1c7179da-fa3f-41c7-a14e-2ba8854c303e\"}, {\"type\": \"Grid\", \"id\": \"9cb535b0-8ada-4a27-87c2-e69013c33813\"}, {\"type\": \"LinearAxis\", \"id\": \"525bcc3f-f357-4237-bb33-d226bd76fe98\"}, {\"type\": \"Grid\", \"id\": \"0a7ab529-b671-401a-ad86-49f8cc9ecdce\"}, {\"type\": \"BoxAnnotation\", \"id\": \"d531278c-9424-4d95-8c38-0be16af7ae34\"}, {\"type\": \"GlyphRenderer\", \"id\": \"87710095-586f-401f-ae19-9bed3e4a75fb\"}], \"below\": [{\"type\": \"LinearAxis\", \"id\": \"1c7179da-fa3f-41c7-a14e-2ba8854c303e\"}], \"tool_events\": {\"type\": \"ToolEvents\", \"id\": \"f336d968-0d08-459b-bffb-6572025f8a5b\"}, \"tools\": [{\"type\": \"PanTool\", \"id\": \"4802e58f-9533-423b-a2d9-4b6552679275\"}, {\"type\": \"WheelZoomTool\", \"id\": \"47ba19a1-b335-43df-b629-a1a2e6c20c26\"}, {\"type\": \"BoxZoomTool\", \"id\": \"302206a2-f046-4111-bc51-b1e50964ded2\"}, {\"type\": \"PreviewSaveTool\", \"id\": \"4f12b3e3-3dff-44a5-b0ae-f758c024a182\"}, {\"type\": \"ResizeTool\", \"id\": \"a0c84384-66a8-4ab0-ab57-6640122b589e\"}, {\"type\": \"ResetTool\", \"id\": \"0d4bdb7b-2692-4b58-9c37-cf6a7a7fe56c\"}, {\"type\": \"HelpTool\", \"id\": \"d9037a2c-9186-478e-93d2-3436a1bff0a1\"}], \"left\": [{\"type\": \"LinearAxis\", \"id\": \"525bcc3f-f357-4237-bb33-d226bd76fe98\"}]}, \"type\": \"Plot\", \"id\": \"61fda1db-ca04-43fb-80cd-fa9bfc815dc9\", \"subtype\": \"Figure\"}, {\"attributes\": {\"plot\": {\"subtype\": \"Figure\", \"type\": \"Plot\", \"id\": \"4cbd32ec-6c7f-42f1-a23b-d56e4127e4bf\"}, \"ticker\": {\"type\": \"BasicTicker\", \"id\": \"519490bc-a926-472b-9066-2bba0b9a3741\"}, \"dimension\": 1}, \"type\": \"Grid\", \"id\": \"e6be3ced-d418-4a25-9104-1858656504c1\"}, {\"attributes\": {\"line_color\": {\"value\": \"#1f77b4\"}, \"line_alpha\": {\"value\": 0.1}, \"y\": {\"field\": \"y\"}, \"x\": {\"field\": \"x\"}}, \"type\": \"Line\", \"id\": \"584012a1-3c06-4f27-89d8-a2d5f8a7bf34\"}, {\"attributes\": {}, \"type\": \"BasicTicker\", \"id\": \"967952be-9a00-4053-aa99-3f482ef5c4c9\"}, {\"attributes\": {\"plot\": {\"subtype\": \"Figure\", \"type\": \"Plot\", \"id\": \"0783111d-813d-4149-9bee-bcf6ebe961c3\"}, \"formatter\": {\"type\": \"BasicTickFormatter\", \"id\": \"2a97697a-8216-4de1-96cf-263ac712fd34\"}, \"ticker\": {\"type\": \"BasicTicker\", \"id\": \"fbb1de51-5e27-4537-bb68-44bb973aaf42\"}}, \"type\": \"LinearAxis\", \"id\": \"63d72518-c5bf-4b07-a09f-4b14efff1bea\"}, {\"attributes\": {}, \"type\": \"BasicTickFormatter\", \"id\": \"73be0615-9c51-4301-9d57-eec69949e5d4\"}, {\"attributes\": {\"plot\": {\"subtype\": \"Figure\", \"type\": \"Plot\", \"id\": \"c2bc6458-6f4f-4ff1-8c87-dbf40fdf04d3\"}, \"overlay\": {\"type\": \"BoxAnnotation\", \"id\": \"700b72e6-31e8-4ba9-8096-ef156d461dae\"}}, \"type\": \"BoxZoomTool\", \"id\": \"acc30dbc-d3db-45c9-a108-ede7ff5d6b59\"}, {\"attributes\": {\"plot\": {\"subtype\": \"Figure\", \"type\": \"Plot\", \"id\": \"8bdd3273-9213-4911-9ea5-6f5236cfb42b\"}}, \"type\": \"HelpTool\", \"id\": \"551ccd51-ac83-4624-8ca3-706ce699650c\"}, {\"attributes\": {\"plot\": {\"subtype\": \"Figure\", \"type\": \"Plot\", \"id\": \"65f58ab1-69c9-4100-bbff-dacf37e8639a\"}, \"ticker\": {\"type\": \"BasicTicker\", \"id\": \"4d949ea5-9365-4e77-8036-cc0fd402db18\"}, \"dimension\": 1}, \"type\": \"Grid\", \"id\": \"2b6186b8-682a-4d06-8190-2d39ae4a6a1b\"}, {\"attributes\": {\"line_color\": {\"value\": \"#1f77b4\"}, \"line_alpha\": {\"value\": 0.1}, \"y\": {\"field\": \"y\"}, \"x\": {\"field\": \"x\"}}, \"type\": \"Line\", \"id\": \"24683b07-5f9a-46b0-a148-bcb90572bae9\"}, {\"attributes\": {\"plot\": {\"subtype\": \"Figure\", \"type\": \"Plot\", \"id\": \"c2bc6458-6f4f-4ff1-8c87-dbf40fdf04d3\"}}, \"type\": \"PanTool\", \"id\": \"52876867-29c8-4b8a-9989-846a5e792803\"}, {\"attributes\": {\"plot\": {\"subtype\": \"Figure\", \"type\": \"Plot\", \"id\": \"561396b7-cfdf-4161-a232-fa34a8366832\"}, \"overlay\": {\"type\": \"BoxAnnotation\", \"id\": \"5830f25d-3aa5-4089-b3b7-fd1a8d0fbd9f\"}}, \"type\": \"BoxZoomTool\", \"id\": \"78639bff-2df2-426d-a3ae-0c45dc65df69\"}, {\"attributes\": {}, \"type\": \"ToolEvents\", \"id\": \"5aced70d-5e52-48a8-ab00-466054b96971\"}, {\"attributes\": {\"plot\": {\"subtype\": \"Figure\", \"type\": \"Plot\", \"id\": \"65f58ab1-69c9-4100-bbff-dacf37e8639a\"}, \"overlay\": {\"type\": \"BoxAnnotation\", \"id\": \"14fb20a1-d939-4fab-9ee3-463ca02973ee\"}}, \"type\": \"BoxZoomTool\", \"id\": \"3dac1756-50e0-402d-9041-0e6c9deb295f\"}, {\"attributes\": {\"plot\": {\"subtype\": \"Figure\", \"type\": \"Plot\", \"id\": \"61fda1db-ca04-43fb-80cd-fa9bfc815dc9\"}, \"formatter\": {\"type\": \"BasicTickFormatter\", \"id\": \"d1f51b60-60d5-4648-a2f4-d065ce54d644\"}, \"ticker\": {\"type\": \"BasicTicker\", \"id\": \"7f8b9336-6929-4f88-8ff1-e76076265700\"}}, \"type\": \"LinearAxis\", \"id\": \"525bcc3f-f357-4237-bb33-d226bd76fe98\"}, {\"attributes\": {\"plot\": {\"subtype\": \"Figure\", \"type\": \"Plot\", \"id\": \"4cbd32ec-6c7f-42f1-a23b-d56e4127e4bf\"}, \"formatter\": {\"type\": \"BasicTickFormatter\", \"id\": \"560c8701-8e9f-42ff-bbdb-3d2ca3c4e9ba\"}, \"ticker\": {\"type\": \"BasicTicker\", \"id\": \"519490bc-a926-472b-9066-2bba0b9a3741\"}}, \"type\": \"LinearAxis\", \"id\": \"e3ef54d4-d929-4ca9-a4b9-3ea4fd000472\"}, {\"attributes\": {\"line_color\": {\"value\": \"#1f77b4\"}, \"x\": {\"field\": \"x\"}, \"y\": {\"field\": \"y\"}}, \"type\": \"Line\", \"id\": \"1ad989e6-2977-4876-b2f8-0cf4ddbecb4e\"}, {\"attributes\": {}, \"type\": \"BasicTickFormatter\", \"id\": \"d849b7f7-e143-45de-a3e2-a52740f75a24\"}, {\"attributes\": {}, \"type\": \"BasicTickFormatter\", \"id\": \"0544541a-aff5-4795-a9c1-f147f3f4a5b2\"}, {\"attributes\": {\"plot\": {\"subtype\": \"Figure\", \"type\": \"Plot\", \"id\": \"abec6eff-0bef-4274-8388-c8117c8757a2\"}, \"formatter\": {\"type\": \"BasicTickFormatter\", \"id\": \"cf8b11e2-655b-4f31-be94-ec39c2647793\"}, \"ticker\": {\"type\": \"BasicTicker\", \"id\": \"1a45fb55-a9ad-4934-8a8d-a6dc543a2945\"}}, \"type\": \"LinearAxis\", \"id\": \"31577af9-0206-4e0e-84ce-47e977a1a15f\"}, {\"attributes\": {\"plot\": {\"subtype\": \"Figure\", \"type\": \"Plot\", \"id\": \"0783111d-813d-4149-9bee-bcf6ebe961c3\"}, \"formatter\": {\"type\": \"BasicTickFormatter\", \"id\": \"12656ecd-a21a-4810-ac1f-d34bd80cc954\"}, \"ticker\": {\"type\": \"BasicTicker\", \"id\": \"36b47784-3f1f-45ee-8e1c-3a111b71d2a7\"}}, \"type\": \"LinearAxis\", \"id\": \"71cf33bb-a2b8-40b2-b38d-e358962c8322\"}, {\"attributes\": {}, \"type\": \"BasicTicker\", \"id\": \"519490bc-a926-472b-9066-2bba0b9a3741\"}, {\"attributes\": {}, \"type\": \"BasicTicker\", \"id\": \"f114f9a1-8d0f-423a-89d0-fa5bd823ef82\"}, {\"attributes\": {\"nonselection_glyph\": {\"type\": \"Line\", \"id\": \"c2be0321-fe5e-41f9-b5b1-f2a09463fed7\"}, \"data_source\": {\"type\": \"ColumnDataSource\", \"id\": \"b39a2a9a-71c1-4813-90c0-209b735b731a\"}, \"selection_glyph\": null, \"hover_glyph\": null, \"glyph\": {\"type\": \"Line\", \"id\": \"5cb12d42-e20e-47ab-99e4-a324227c65e1\"}}, \"type\": \"GlyphRenderer\", \"id\": \"60f35fb2-3425-4c34-b954-d3e5fa0c7be4\"}, {\"attributes\": {\"plot\": {\"subtype\": \"Figure\", \"type\": \"Plot\", \"id\": \"4cbd32ec-6c7f-42f1-a23b-d56e4127e4bf\"}}, \"type\": \"PanTool\", \"id\": \"b34f17c7-b5d6-4067-ac58-31d26489bd1b\"}, {\"attributes\": {\"plot\": {\"subtype\": \"Figure\", \"type\": \"Plot\", \"id\": \"561396b7-cfdf-4161-a232-fa34a8366832\"}, \"ticker\": {\"type\": \"BasicTicker\", \"id\": \"b4a69b98-4ba3-4a24-b48a-cad0095e1248\"}, \"dimension\": 1}, \"type\": \"Grid\", \"id\": \"3be169b1-4be1-4922-91ad-e23eeb1b2b94\"}, {\"attributes\": {\"plot\": {\"subtype\": \"Figure\", \"type\": \"Plot\", \"id\": \"d8602afd-fe0d-4f5a-9fde-5bf046effd59\"}}, \"type\": \"WheelZoomTool\", \"id\": \"54f5cbf3-594a-4d0a-8e3d-011e66d7f41b\"}, {\"attributes\": {\"line_color\": {\"value\": \"black\"}, \"line_alpha\": {\"value\": 1.0}, \"render_mode\": \"css\", \"bottom_units\": \"screen\", \"level\": \"overlay\", \"top_units\": \"screen\", \"fill_alpha\": {\"value\": 0.5}, \"plot\": null, \"left_units\": \"screen\", \"line_dash\": [4, 4], \"line_width\": {\"value\": 2}, \"right_units\": \"screen\", \"fill_color\": {\"value\": \"lightgrey\"}}, \"type\": \"BoxAnnotation\", \"id\": \"ceda06e5-4e6d-4946-9258-bc6d1d3c5a76\"}, {\"attributes\": {\"plot\": {\"subtype\": \"Figure\", \"type\": \"Plot\", \"id\": \"561396b7-cfdf-4161-a232-fa34a8366832\"}, \"formatter\": {\"type\": \"BasicTickFormatter\", \"id\": \"a847d25c-f1a5-4970-a034-fe5187ebc77b\"}, \"ticker\": {\"type\": \"BasicTicker\", \"id\": \"b4a69b98-4ba3-4a24-b48a-cad0095e1248\"}}, \"type\": \"LinearAxis\", \"id\": \"2de019d3-2918-4776-bad9-3e2735ec4775\"}, {\"attributes\": {\"callback\": null}, \"type\": \"DataRange1d\", \"id\": \"26f81563-3f6d-4a13-9514-7974f87b00a9\"}, {\"attributes\": {}, \"type\": \"BasicTickFormatter\", \"id\": \"d1f51b60-60d5-4648-a2f4-d065ce54d644\"}, {\"attributes\": {\"plot\": {\"subtype\": \"Figure\", \"type\": \"Plot\", \"id\": \"951cbcc0-ed9a-4e44-967f-5e063370220f\"}}, \"type\": \"PanTool\", \"id\": \"80b2b88e-a1f9-4789-b596-1ba76c5a89a6\"}, {\"attributes\": {}, \"type\": \"BasicTicker\", \"id\": \"e45f3e53-9d35-4a8e-a6f9-192ba76d793d\"}, {\"attributes\": {\"plot\": {\"subtype\": \"Figure\", \"type\": \"Plot\", \"id\": \"d8602afd-fe0d-4f5a-9fde-5bf046effd59\"}, \"formatter\": {\"type\": \"BasicTickFormatter\", \"id\": \"4fad6512-033e-4ce3-aaae-cb2a87e763c1\"}, \"ticker\": {\"type\": \"BasicTicker\", \"id\": \"36b5cba6-a747-4777-aa9b-e3b3f52cd85b\"}}, \"type\": \"LinearAxis\", \"id\": \"583e2aa3-8277-4c63-aa14-2a64c0b8dbb6\"}, {\"attributes\": {\"line_color\": {\"value\": \"black\"}, \"line_alpha\": {\"value\": 1.0}, \"render_mode\": \"css\", \"bottom_units\": \"screen\", \"level\": \"overlay\", \"top_units\": \"screen\", \"fill_alpha\": {\"value\": 0.5}, \"plot\": null, \"left_units\": \"screen\", \"line_dash\": [4, 4], \"line_width\": {\"value\": 2}, \"right_units\": \"screen\", \"fill_color\": {\"value\": \"lightgrey\"}}, \"type\": \"BoxAnnotation\", \"id\": \"5830f25d-3aa5-4089-b3b7-fd1a8d0fbd9f\"}, {\"attributes\": {\"plot\": {\"subtype\": \"Figure\", \"type\": \"Plot\", \"id\": \"c2bc6458-6f4f-4ff1-8c87-dbf40fdf04d3\"}}, \"type\": \"ResetTool\", \"id\": \"31309b42-d8c5-492a-bafb-34d7fe65f1c9\"}, {\"attributes\": {\"plot\": {\"subtype\": \"Figure\", \"type\": \"Plot\", \"id\": \"c2bc6458-6f4f-4ff1-8c87-dbf40fdf04d3\"}}, \"type\": \"PreviewSaveTool\", \"id\": \"8d249098-e8bf-495c-825b-b9dd03cc6eac\"}, {\"attributes\": {\"plot\": {\"subtype\": \"Figure\", \"type\": \"Plot\", \"id\": \"c2bc6458-6f4f-4ff1-8c87-dbf40fdf04d3\"}, \"formatter\": {\"type\": \"BasicTickFormatter\", \"id\": \"7cb54de8-091f-4c19-953a-93bec2e9d247\"}, \"ticker\": {\"type\": \"BasicTicker\", \"id\": \"d9d3deec-6554-4f97-9340-cbd80671d36d\"}}, \"type\": \"LinearAxis\", \"id\": \"81bb3acb-f3f5-4645-9024-ed1ff963e12c\"}, {\"attributes\": {}, \"type\": \"BasicTicker\", \"id\": \"b4a69b98-4ba3-4a24-b48a-cad0095e1248\"}, {\"attributes\": {\"plot\": {\"subtype\": \"Figure\", \"type\": \"Plot\", \"id\": \"4cbd32ec-6c7f-42f1-a23b-d56e4127e4bf\"}}, \"type\": \"PreviewSaveTool\", \"id\": \"c8b8e98a-ff93-4331-a8fe-aff229e6a652\"}, {\"attributes\": {\"plot\": {\"subtype\": \"Figure\", \"type\": \"Plot\", \"id\": \"61fda1db-ca04-43fb-80cd-fa9bfc815dc9\"}, \"overlay\": {\"type\": \"BoxAnnotation\", \"id\": \"d531278c-9424-4d95-8c38-0be16af7ae34\"}}, \"type\": \"BoxZoomTool\", \"id\": \"302206a2-f046-4111-bc51-b1e50964ded2\"}, {\"attributes\": {\"line_color\": {\"value\": \"#1f77b4\"}, \"x\": {\"field\": \"x\"}, \"y\": {\"field\": \"y\"}}, \"type\": \"Line\", \"id\": \"df09b78b-5778-4fda-a708-3bcffa059359\"}, {\"attributes\": {}, \"type\": \"BasicTickFormatter\", \"id\": \"9961eb2d-6160-464f-b450-86c8c9bc32df\"}, {\"attributes\": {}, \"type\": \"BasicTickFormatter\", \"id\": \"ada4d700-4d25-4e9e-8f69-0b9d1b4aade3\"}, {\"attributes\": {\"plot\": {\"subtype\": \"Figure\", \"type\": \"Plot\", \"id\": \"c2bc6458-6f4f-4ff1-8c87-dbf40fdf04d3\"}}, \"type\": \"WheelZoomTool\", \"id\": \"1fc39e18-6283-42a6-ad21-c8577f82b326\"}, {\"attributes\": {\"plot\": {\"subtype\": \"Figure\", \"type\": \"Plot\", \"id\": \"4cbd32ec-6c7f-42f1-a23b-d56e4127e4bf\"}, \"formatter\": {\"type\": \"BasicTickFormatter\", \"id\": \"b3a8f2a4-4a3e-4a5b-8131-bc433bb91ef8\"}, \"ticker\": {\"type\": \"BasicTicker\", \"id\": \"3906380b-6720-437f-b8c8-f103db45bc47\"}}, \"type\": \"LinearAxis\", \"id\": \"15545677-7cf4-47dc-876d-6e71499f5157\"}, {\"attributes\": {\"line_color\": {\"value\": \"#1f77b4\"}, \"x\": {\"field\": \"x\"}, \"y\": {\"field\": \"y\"}}, \"type\": \"Line\", \"id\": \"71a6fabf-9201-4673-a726-b2df3a909c84\"}, {\"attributes\": {\"plot\": {\"subtype\": \"Figure\", \"type\": \"Plot\", \"id\": \"0783111d-813d-4149-9bee-bcf6ebe961c3\"}, \"overlay\": {\"type\": \"BoxAnnotation\", \"id\": \"fa04c75a-c24f-4936-81bd-c970da5e59df\"}}, \"type\": \"BoxZoomTool\", \"id\": \"c332a5cf-a903-4097-9c4f-accea3fd49b0\"}, {\"attributes\": {}, \"type\": \"ToolEvents\", \"id\": \"2b4adb2b-39f0-4195-9c60-8c2a7007c5c5\"}, {\"attributes\": {\"plot\": {\"subtype\": \"Figure\", \"type\": \"Plot\", \"id\": \"4cbd32ec-6c7f-42f1-a23b-d56e4127e4bf\"}}, \"type\": \"HelpTool\", \"id\": \"aac50de0-24a4-4174-969d-9d07508dadc6\"}, {\"attributes\": {\"line_color\": {\"value\": \"black\"}, \"line_alpha\": {\"value\": 1.0}, \"render_mode\": \"css\", \"bottom_units\": \"screen\", \"level\": \"overlay\", \"top_units\": \"screen\", \"fill_alpha\": {\"value\": 0.5}, \"plot\": null, \"left_units\": \"screen\", \"line_dash\": [4, 4], \"line_width\": {\"value\": 2}, \"right_units\": \"screen\", \"fill_color\": {\"value\": \"lightgrey\"}}, \"type\": \"BoxAnnotation\", \"id\": \"fa04c75a-c24f-4936-81bd-c970da5e59df\"}, {\"attributes\": {\"plot\": {\"subtype\": \"Figure\", \"type\": \"Plot\", \"id\": \"65f58ab1-69c9-4100-bbff-dacf37e8639a\"}}, \"type\": \"HelpTool\", \"id\": \"e4929822-257b-4c1b-88d0-2dd6d1aca5d7\"}, {\"attributes\": {\"plot\": {\"subtype\": \"Figure\", \"type\": \"Plot\", \"id\": \"951cbcc0-ed9a-4e44-967f-5e063370220f\"}, \"formatter\": {\"type\": \"BasicTickFormatter\", \"id\": \"0544541a-aff5-4795-a9c1-f147f3f4a5b2\"}, \"ticker\": {\"type\": \"BasicTicker\", \"id\": \"b7afefdc-2172-42ef-a7b3-f2554a0f6d85\"}}, \"type\": \"LinearAxis\", \"id\": \"fce509fe-1fe2-46ee-ba2b-3ddf2f367342\"}, {\"attributes\": {\"plot\": {\"subtype\": \"Figure\", \"type\": \"Plot\", \"id\": \"8bdd3273-9213-4911-9ea5-6f5236cfb42b\"}, \"ticker\": {\"type\": \"BasicTicker\", \"id\": \"92c73f6f-b081-4f38-8d26-a840085b587b\"}}, \"type\": \"Grid\", \"id\": \"eb99a8ee-b2c4-49db-854d-2cc9e75a125a\"}, {\"attributes\": {\"plot\": {\"subtype\": \"Figure\", \"type\": \"Plot\", \"id\": \"951cbcc0-ed9a-4e44-967f-5e063370220f\"}, \"overlay\": {\"type\": \"BoxAnnotation\", \"id\": \"3d14f8b1-36c9-46c5-8856-d43f68077b8b\"}}, \"type\": \"BoxZoomTool\", \"id\": \"8e63b6b3-02f7-4c2f-bddb-0f0131e015e3\"}, {\"attributes\": {\"line_color\": {\"value\": \"#1f77b4\"}, \"x\": {\"field\": \"x\"}, \"y\": {\"field\": \"y\"}}, \"type\": \"Line\", \"id\": \"46f2d5ce-2cce-4a92-af6b-c57de04e00f3\"}, {\"attributes\": {\"plot\": {\"subtype\": \"Figure\", \"type\": \"Plot\", \"id\": \"8bdd3273-9213-4911-9ea5-6f5236cfb42b\"}, \"overlay\": {\"type\": \"BoxAnnotation\", \"id\": \"ceda06e5-4e6d-4946-9258-bc6d1d3c5a76\"}}, \"type\": \"BoxZoomTool\", \"id\": \"9df4f3dc-ad25-491c-8342-c2f5980b5c0c\"}, {\"attributes\": {\"plot\": {\"subtype\": \"Figure\", \"type\": \"Plot\", \"id\": \"65f58ab1-69c9-4100-bbff-dacf37e8639a\"}}, \"type\": \"PreviewSaveTool\", \"id\": \"31f125c4-0a99-49ae-8909-257d333f7b11\"}, {\"attributes\": {\"line_color\": {\"value\": \"#1f77b4\"}, \"line_alpha\": {\"value\": 0.1}, \"y\": {\"field\": \"y\"}, \"x\": {\"field\": \"x\"}}, \"type\": \"Line\", \"id\": \"ece0522b-dd4c-4425-80f3-3efd79c0e75e\"}, {\"attributes\": {}, \"type\": \"BasicTickFormatter\", \"id\": \"b3a8f2a4-4a3e-4a5b-8131-bc433bb91ef8\"}, {\"attributes\": {\"plot\": {\"subtype\": \"Figure\", \"type\": \"Plot\", \"id\": \"951cbcc0-ed9a-4e44-967f-5e063370220f\"}, \"ticker\": {\"type\": \"BasicTicker\", \"id\": \"b7afefdc-2172-42ef-a7b3-f2554a0f6d85\"}}, \"type\": \"Grid\", \"id\": \"59eeaf2f-bfd1-4e92-b8d0-a5cda88e0bc8\"}, {\"attributes\": {\"plot\": {\"subtype\": \"Figure\", \"type\": \"Plot\", \"id\": \"d8602afd-fe0d-4f5a-9fde-5bf046effd59\"}, \"ticker\": {\"type\": \"BasicTicker\", \"id\": \"36b5cba6-a747-4777-aa9b-e3b3f52cd85b\"}, \"dimension\": 1}, \"type\": \"Grid\", \"id\": \"57d396be-7e40-4c55-a9a5-8782ae74acaa\"}, {\"attributes\": {\"plot\": {\"subtype\": \"Figure\", \"type\": \"Plot\", \"id\": \"61fda1db-ca04-43fb-80cd-fa9bfc815dc9\"}}, \"type\": \"PreviewSaveTool\", \"id\": \"4f12b3e3-3dff-44a5-b0ae-f758c024a182\"}, {\"attributes\": {\"plot\": {\"subtype\": \"Figure\", \"type\": \"Plot\", \"id\": \"abec6eff-0bef-4274-8388-c8117c8757a2\"}, \"ticker\": {\"type\": \"BasicTicker\", \"id\": \"9b5b6ea6-0c10-4089-abd3-4e7c150d0325\"}, \"dimension\": 1}, \"type\": \"Grid\", \"id\": \"4409d276-da6b-4cf5-980f-3f27f7a39295\"}, {\"attributes\": {\"x_range\": {\"type\": \"DataRange1d\", \"id\": \"a1631222-8fed-434b-98b5-d246853e1a7d\"}, \"y_range\": {\"type\": \"DataRange1d\", \"id\": \"6a055a48-fdd7-4cb6-b98c-c99d815b9456\"}, \"renderers\": [{\"type\": \"LinearAxis\", \"id\": \"6f2dafe2-512f-47f6-aedd-338c18313bb5\"}, {\"type\": \"Grid\", \"id\": \"a5ccdd48-e145-4d6f-84cd-185a7ca0995a\"}, {\"type\": \"LinearAxis\", \"id\": \"583e2aa3-8277-4c63-aa14-2a64c0b8dbb6\"}, {\"type\": \"Grid\", \"id\": \"57d396be-7e40-4c55-a9a5-8782ae74acaa\"}, {\"type\": \"BoxAnnotation\", \"id\": \"c5470dcc-5cfe-4623-81d7-c655da0c5e70\"}, {\"type\": \"GlyphRenderer\", \"id\": \"bf53b1a7-7a57-47fa-8158-5194d3368c6b\"}], \"below\": [{\"type\": \"LinearAxis\", \"id\": \"6f2dafe2-512f-47f6-aedd-338c18313bb5\"}], \"tool_events\": {\"type\": \"ToolEvents\", \"id\": \"5aced70d-5e52-48a8-ab00-466054b96971\"}, \"tools\": [{\"type\": \"PanTool\", \"id\": \"73384195-270b-4a04-8b04-2172eb574d6d\"}, {\"type\": \"WheelZoomTool\", \"id\": \"54f5cbf3-594a-4d0a-8e3d-011e66d7f41b\"}, {\"type\": \"BoxZoomTool\", \"id\": \"1b39c481-02bc-44dc-8c5a-5f4f06cfc584\"}, {\"type\": \"PreviewSaveTool\", \"id\": \"616c97b9-d117-435e-b4a7-6a4a714d505b\"}, {\"type\": \"ResizeTool\", \"id\": \"2c6a6491-53a7-406d-9cf9-cc9fa4d68749\"}, {\"type\": \"ResetTool\", \"id\": \"5d931b7a-a583-468c-acd5-f8a50ce0bf24\"}, {\"type\": \"HelpTool\", \"id\": \"70491a69-f712-4c8c-9f14-37a004e41318\"}], \"left\": [{\"type\": \"LinearAxis\", \"id\": \"583e2aa3-8277-4c63-aa14-2a64c0b8dbb6\"}]}, \"type\": \"Plot\", \"id\": \"d8602afd-fe0d-4f5a-9fde-5bf046effd59\", \"subtype\": \"Figure\"}, {\"attributes\": {}, \"type\": \"BasicTickFormatter\", \"id\": \"4fad6512-033e-4ce3-aaae-cb2a87e763c1\"}, {\"attributes\": {\"plot\": {\"subtype\": \"Figure\", \"type\": \"Plot\", \"id\": \"0783111d-813d-4149-9bee-bcf6ebe961c3\"}, \"ticker\": {\"type\": \"BasicTicker\", \"id\": \"fbb1de51-5e27-4537-bb68-44bb973aaf42\"}}, \"type\": \"Grid\", \"id\": \"85c93a04-1fe8-4534-a0f7-4cbdae66fbfa\"}, {\"attributes\": {\"plot\": {\"subtype\": \"Figure\", \"type\": \"Plot\", \"id\": \"561396b7-cfdf-4161-a232-fa34a8366832\"}}, \"type\": \"ResetTool\", \"id\": \"b87719bd-4346-42d5-aba0-1f1ce5224945\"}, {\"attributes\": {\"plot\": {\"subtype\": \"Figure\", \"type\": \"Plot\", \"id\": \"951cbcc0-ed9a-4e44-967f-5e063370220f\"}}, \"type\": \"HelpTool\", \"id\": \"a420e9ee-c442-49ec-a2fd-37cb925892a9\"}, {\"attributes\": {\"plot\": {\"subtype\": \"Figure\", \"type\": \"Plot\", \"id\": \"8bdd3273-9213-4911-9ea5-6f5236cfb42b\"}}, \"type\": \"ResetTool\", \"id\": \"fa7f7256-a0bc-428c-9403-69570fd9d426\"}, {\"attributes\": {\"line_color\": {\"value\": \"#1f77b4\"}, \"x\": {\"field\": \"x\"}, \"y\": {\"field\": \"y\"}}, \"type\": \"Line\", \"id\": \"9564de3a-ba6f-4b6a-898e-ee737b138105\"}, {\"attributes\": {\"plot\": {\"subtype\": \"Figure\", \"type\": \"Plot\", \"id\": \"951cbcc0-ed9a-4e44-967f-5e063370220f\"}}, \"type\": \"PreviewSaveTool\", \"id\": \"2cdc6782-a8a9-4810-ae41-ac376a77cf7f\"}, {\"attributes\": {\"callback\": null}, \"type\": \"DataRange1d\", \"id\": \"26b681b9-44da-4085-9ef7-05024952895d\"}, {\"attributes\": {\"line_color\": {\"value\": \"#1f77b4\"}, \"x\": {\"field\": \"x\"}, \"y\": {\"field\": \"y\"}}, \"type\": \"Line\", \"id\": \"ed5ee99c-8e5d-477d-a098-270b72aff561\"}, {\"attributes\": {\"nonselection_glyph\": {\"type\": \"Line\", \"id\": \"ece0522b-dd4c-4425-80f3-3efd79c0e75e\"}, \"data_source\": {\"type\": \"ColumnDataSource\", \"id\": \"b38b0f42-a502-47a8-ac1a-c50243b77972\"}, \"selection_glyph\": null, \"hover_glyph\": null, \"glyph\": {\"type\": \"Line\", \"id\": \"b3ac7449-65a4-431d-8ef2-8594fbe8ed98\"}}, \"type\": \"GlyphRenderer\", \"id\": \"8907c73f-d59f-46d3-aaa0-281751dcd135\"}, {\"attributes\": {}, \"type\": \"BasicTickFormatter\", \"id\": \"7cb54de8-091f-4c19-953a-93bec2e9d247\"}, {\"attributes\": {\"callback\": null}, \"type\": \"DataRange1d\", \"id\": \"c2813258-32ea-4532-a86e-fd82db4545c7\"}, {\"attributes\": {}, \"type\": \"BasicTickFormatter\", \"id\": \"1c4f1cd8-74b7-42cd-bd7e-cee59a744164\"}, {\"attributes\": {}, \"type\": \"ToolEvents\", \"id\": \"795ee928-91d4-4767-9c13-cc45dd29d6f9\"}, {\"attributes\": {\"line_color\": {\"value\": \"#1f77b4\"}, \"x\": {\"field\": \"x\"}, \"y\": {\"field\": \"y\"}}, \"type\": \"Line\", \"id\": \"3199f9f5-5313-419b-b2cf-a28f2a5163fd\"}, {\"attributes\": {\"x_range\": {\"type\": \"DataRange1d\", \"id\": \"5fab4525-08ed-4a9b-b308-eb5627f38599\"}, \"y_range\": {\"type\": \"DataRange1d\", \"id\": \"fb79e0bd-6671-4384-86b2-6ee0831ff67d\"}, \"renderers\": [{\"type\": \"LinearAxis\", \"id\": \"3b786ea3-39dd-4a2d-aa4b-b6154130c7c2\"}, {\"type\": \"Grid\", \"id\": \"1e117a94-eb6b-4f28-a9c2-0425af605eac\"}, {\"type\": \"LinearAxis\", \"id\": \"81bb3acb-f3f5-4645-9024-ed1ff963e12c\"}, {\"type\": \"Grid\", \"id\": \"29efe14c-2540-473f-b043-5d5a4338c6bb\"}, {\"type\": \"BoxAnnotation\", \"id\": \"700b72e6-31e8-4ba9-8096-ef156d461dae\"}, {\"type\": \"GlyphRenderer\", \"id\": \"b1b1e816-507b-4cc9-bfb2-79487849996e\"}], \"below\": [{\"type\": \"LinearAxis\", \"id\": \"3b786ea3-39dd-4a2d-aa4b-b6154130c7c2\"}], \"tool_events\": {\"type\": \"ToolEvents\", \"id\": \"9939501e-65f4-48cc-9259-87d9d19cdfb6\"}, \"tools\": [{\"type\": \"PanTool\", \"id\": \"52876867-29c8-4b8a-9989-846a5e792803\"}, {\"type\": \"WheelZoomTool\", \"id\": \"1fc39e18-6283-42a6-ad21-c8577f82b326\"}, {\"type\": \"BoxZoomTool\", \"id\": \"acc30dbc-d3db-45c9-a108-ede7ff5d6b59\"}, {\"type\": \"PreviewSaveTool\", \"id\": \"8d249098-e8bf-495c-825b-b9dd03cc6eac\"}, {\"type\": \"ResizeTool\", \"id\": \"36de0572-71d9-42d8-89fe-a312159563ae\"}, {\"type\": \"ResetTool\", \"id\": \"31309b42-d8c5-492a-bafb-34d7fe65f1c9\"}, {\"type\": \"HelpTool\", \"id\": \"cc39e5eb-347d-46e1-b63c-894b07a4a91d\"}], \"left\": [{\"type\": \"LinearAxis\", \"id\": \"81bb3acb-f3f5-4645-9024-ed1ff963e12c\"}]}, \"type\": \"Plot\", \"id\": \"c2bc6458-6f4f-4ff1-8c87-dbf40fdf04d3\", \"subtype\": \"Figure\"}, {\"attributes\": {}, \"type\": \"BasicTickFormatter\", \"id\": \"12656ecd-a21a-4810-ac1f-d34bd80cc954\"}, {\"attributes\": {\"plot\": {\"subtype\": \"Figure\", \"type\": \"Plot\", \"id\": \"0783111d-813d-4149-9bee-bcf6ebe961c3\"}}, \"type\": \"ResetTool\", \"id\": \"f3840731-7422-4205-a7ed-564b7cd3569a\"}, {\"attributes\": {\"callback\": null, \"column_names\": [\"y\", \"x\"], \"data\": {\"y\": [0, 1, 2, 3, 4, 5, 6, 7, 8, 9, 10, 11, 12, 13, 14, 15, 16, 17, 18, 19, 20, 21, 22, 23, 24, 25, 26, 27, 28, 29, 30, 31, 32, 33, 34, 35, 36, 37, 38, 39, 40, 41, 42, 43, 44, 45, 46, 47, 48, 49, 50, 51, 52, 53, 54, 55, 56, 57, 58, 59, 60, 61, 62, 63, 64, 65, 66, 67, 68, 69, 70, 71, 72, 73, 74, 75, 76, 77, 78, 79, 80, 81, 82, 83, 84, 85, 86, 87, 88, 89, 90, 91, 92, 93, 94, 95, 96, 97, 98, 99, 100, 101, 102, 103, 104, 105, 106, 107, 108, 109, 110, 111, 112, 113, 114, 115, 116, 117, 118, 119, 120, 121, 122, 123, 124, 125, 126, 127, 128, 129, 130, 131, 132, 133, 134, 135, 136, 137, 138, 139, 140, 141, 142, 143, 144, 145, 146, 147, 148, 149, 150, 151, 152, 153, 154, 155, 156, 157, 158, 159, 160, 161, 162, 163, 164, 165, 166, 167, 168, 169, 170, 171, 172, 173, 174, 175, 176, 177, 178, 179, 180, 181, 182, 183, 184, 185, 186, 187, 188, 189, 190, 191, 192, 193, 194, 195, 196, 197, 198, 199, 200, 201, 202, 203, 204, 205, 206, 207, 208, 209, 210, 211, 212, 213, 214, 215, 216, 217, 218, 219, 220, 221, 222, 223, 224, 225, 226, 227, 228, 229, 230, 231, 232, 233, 234, 235, 236, 237, 238, 239, 240, 241, 242, 243, 244, 245, 246, 247, 248, 249, 250, 251, 252, 253, 254, 255, 256, 257, 258, 259, 260, 261, 262, 263, 264, 265, 266, 267, 268, 269, 270, 271, 272, 273, 274, 275, 276, 277, 278, 279, 280, 281, 282, 283, 284, 285, 286, 287, 288, 289, 290, 291, 292, 293, 294, 295, 296, 297, 298, 299, 300, 301, 302, 303, 304, 305, 306, 307, 308, 309, 310, 311, 312, 313, 314, 315, 316, 317, 318, 319, 320, 321, 322, 323, 324, 325, 326, 327, 328, 329, 330, 331, 332, 333, 334, 335, 336, 337, 338, 339, 340, 341, 342, 343, 344, 345, 346, 347, 348, 349, 350, 351, 352, 353, 354, 355, 356, 357, 358, 359, 360, 361, 362, 363, 364, 365, 366, 367, 368, 369, 370, 371, 372, 373, 374, 375, 376, 377, 378, 379, 380, 381, 382, 383, 384, 385, 386, 387, 388, 389, 390, 391, 392, 393, 394, 395, 396, 397, 398, 399, 400, 401, 402, 403, 404, 405, 406, 407, 408, 409, 410, 411, 412, 413, 414, 415, 416, 417, 418, 419, 420, 421, 422, 423, 424, 425, 426, 427, 428, 429, 430, 431, 432, 433, 434, 435, 436, 437, 438, 439, 440, 441, 442, 443, 444, 445, 446, 447, 448, 449, 450, 451, 452, 453, 454, 455, 456, 457, 458, 459, 460, 461, 462, 463, 464, 465, 466, 467, 468, 469, 470, 471, 472, 473, 474, 475, 476, 477, 478, 479, 480, 481, 482, 483, 484, 485, 486, 487, 488, 489, 490, 491, 492, 493, 494, 495, 496, 497, 498, 499, 500, 501, 502, 503, 504, 505, 506, 507, 508, 509, 510, 511, 512, 513, 514, 515, 516, 517, 518, 519, 520, 521, 522, 523, 524, 525, 526, 527, 528, 529, 530, 531, 532, 533, 534, 535, 536, 537, 538, 539, 540, 541, 542, 543, 544, 545, 546, 547, 548, 549, 550, 551, 552, 553, 554, 555, 556, 557, 558, 559, 560, 561, 562, 563, 564, 565, 566, 567, 568, 569, 570, 571, 572, 573, 574, 575, 576, 577, 578, 579, 580, 581, 582, 583, 584, 585, 586, 587, 588, 589, 590, 591, 592, 593, 594, 595, 596, 597, 598, 599, 600, 601, 602, 603, 604, 605, 606, 607, 608, 609, 610, 611, 612, 613, 614, 615, 616, 617, 618, 619, 620, 621, 622, 623, 624, 625, 626, 627, 628, 629, 630, 631, 632, 633, 634, 635, 636, 637, 638, 639, 640, 641, 642, 643, 644, 645, 646, 647, 648, 649, 650, 651, 652, 653, 654, 655, 656, 657, 658, 659, 660, 661, 662, 663, 664, 665, 666, 667, 668, 669, 670, 671, 672, 673, 674, 675, 676, 677, 678, 679, 680, 681, 682, 683, 684, 685, 686, 687, 688, 689, 690, 691, 692, 693, 694, 695, 696, 697, 698, 699, 700, 701, 702, 703, 704, 705, 706, 707, 708, 709, 710, 711, 712, 713, 714, 715, 716, 717, 718, 719, 720, 721, 722, 723, 724, 725, 726, 727, 728, 729, 730, 731, 732, 733, 734, 735, 736, 737, 738, 739, 740, 741, 742, 743, 744, 745, 746, 747, 748, 749, 750, 751, 752, 753, 754, 755, 756, 757, 758, 759, 760, 761, 762, 763, 764, 765, 766, 767, 768, 769, 770, 771, 772, 773, 774, 775, 776, 777, 778, 779, 780, 781, 782, 783, 784, 785, 786, 787, 788, 789, 790, 791, 792, 793, 794, 795, 796, 797, 798, 799, 800, 801, 802, 803, 804, 805, 806, 807, 808, 809, 810, 811, 812, 813, 814, 815, 816, 817, 818, 819, 820, 821, 822, 823, 824, 825, 826, 827, 828, 829, 830, 831, 832, 833, 834, 835, 836, 837, 838, 839, 840, 841, 842, 843, 844, 845, 846, 847, 848, 849, 850, 851, 852, 853, 854, 855, 856, 857, 858, 859, 860, 861, 862, 863, 864, 865, 866, 867, 868, 869, 870, 871, 872, 873, 874, 875, 876, 877, 878, 879, 880, 881, 882, 883, 884, 885, 886, 887, 888, 889, 890, 891, 892, 893, 894, 895, 896, 897, 898, 899, 900, 901, 902, 903, 904, 905, 906, 907, 908, 909, 910, 911, 912, 913, 914, 915, 916, 917, 918, 919, 920, 921, 922, 923, 924, 925, 926, 927, 928, 929, 930, 931, 932, 933, 934, 935, 936, 937, 938, 939, 940, 941, 942, 943, 944, 945, 946, 947, 948, 949, 950, 951, 952, 953, 954, 955, 956, 957, 958, 959, 960, 961, 962, 963, 964, 965, 966, 967, 968, 969, 970, 971, 972, 973, 974, 975, 976, 977, 978, 979, 980, 981, 982, 983, 984, 985, 986, 987, 988, 989, 990, 991, 992, 993, 994, 995, 996, 997, 998, 999], \"x\": [0, 1, 2, 3, 4, 5, 6, 7, 8, 9, 10, 11, 12, 13, 14, 15, 16, 17, 18, 19, 20, 21, 22, 23, 24, 25, 26, 27, 28, 29, 30, 31, 32, 33, 34, 35, 36, 37, 38, 39, 40, 41, 42, 43, 44, 45, 46, 47, 48, 49, 50, 51, 52, 53, 54, 55, 56, 57, 58, 59, 60, 61, 62, 63, 64, 65, 66, 67, 68, 69, 70, 71, 72, 73, 74, 75, 76, 77, 78, 79, 80, 81, 82, 83, 84, 85, 86, 87, 88, 89, 90, 91, 92, 93, 94, 95, 96, 97, 98, 99]}}, \"type\": \"ColumnDataSource\", \"id\": \"a67e0260-157a-468c-9ddb-8418dd3adcd5\"}, {\"attributes\": {}, \"type\": \"BasicTickFormatter\", \"id\": \"cf8b11e2-655b-4f31-be94-ec39c2647793\"}, {\"attributes\": {\"plot\": {\"subtype\": \"Figure\", \"type\": \"Plot\", \"id\": \"d8602afd-fe0d-4f5a-9fde-5bf046effd59\"}}, \"type\": \"HelpTool\", \"id\": \"70491a69-f712-4c8c-9f14-37a004e41318\"}, {\"attributes\": {\"line_color\": {\"value\": \"black\"}, \"line_alpha\": {\"value\": 1.0}, \"render_mode\": \"css\", \"bottom_units\": \"screen\", \"level\": \"overlay\", \"top_units\": \"screen\", \"fill_alpha\": {\"value\": 0.5}, \"plot\": null, \"left_units\": \"screen\", \"line_dash\": [4, 4], \"line_width\": {\"value\": 2}, \"right_units\": \"screen\", \"fill_color\": {\"value\": \"lightgrey\"}}, \"type\": \"BoxAnnotation\", \"id\": \"3d14f8b1-36c9-46c5-8856-d43f68077b8b\"}, {\"attributes\": {\"callback\": null}, \"type\": \"DataRange1d\", \"id\": \"da10457a-95a5-4e8e-a1fe-018bb587c39b\"}, {\"attributes\": {}, \"type\": \"BasicTicker\", \"id\": \"d9d3deec-6554-4f97-9340-cbd80671d36d\"}, {\"attributes\": {\"x_range\": {\"type\": \"DataRange1d\", \"id\": \"da10457a-95a5-4e8e-a1fe-018bb587c39b\"}, \"y_range\": {\"type\": \"DataRange1d\", \"id\": \"9a454352-cf66-48c8-ae44-ffb58aaad064\"}, \"renderers\": [{\"type\": \"LinearAxis\", \"id\": \"15545677-7cf4-47dc-876d-6e71499f5157\"}, {\"type\": \"Grid\", \"id\": \"cbc1128b-9984-4dc8-b52e-123b463d26d3\"}, {\"type\": \"LinearAxis\", \"id\": \"e3ef54d4-d929-4ca9-a4b9-3ea4fd000472\"}, {\"type\": \"Grid\", \"id\": \"e6be3ced-d418-4a25-9104-1858656504c1\"}, {\"type\": \"BoxAnnotation\", \"id\": \"ad3afb6b-16db-4a76-b6fa-f896053cf8a6\"}, {\"type\": \"GlyphRenderer\", \"id\": \"8907c73f-d59f-46d3-aaa0-281751dcd135\"}], \"below\": [{\"type\": \"LinearAxis\", \"id\": \"15545677-7cf4-47dc-876d-6e71499f5157\"}], \"tool_events\": {\"type\": \"ToolEvents\", \"id\": \"9f27ffc2-8ca2-47df-a2e2-c08792aca910\"}, \"tools\": [{\"type\": \"PanTool\", \"id\": \"b34f17c7-b5d6-4067-ac58-31d26489bd1b\"}, {\"type\": \"WheelZoomTool\", \"id\": \"bd0c33b0-eba8-4cb4-b974-4a80f2a23259\"}, {\"type\": \"BoxZoomTool\", \"id\": \"1b99a4c7-e85b-49a2-ba24-786b40fc9397\"}, {\"type\": \"PreviewSaveTool\", \"id\": \"c8b8e98a-ff93-4331-a8fe-aff229e6a652\"}, {\"type\": \"ResizeTool\", \"id\": \"ff03babf-02bd-4e42-8fb8-743b54b4d673\"}, {\"type\": \"ResetTool\", \"id\": \"fb31c94a-59ad-49b8-a91e-5a1313d673c7\"}, {\"type\": \"HelpTool\", \"id\": \"aac50de0-24a4-4174-969d-9d07508dadc6\"}], \"left\": [{\"type\": \"LinearAxis\", \"id\": \"e3ef54d4-d929-4ca9-a4b9-3ea4fd000472\"}]}, \"type\": \"Plot\", \"id\": \"4cbd32ec-6c7f-42f1-a23b-d56e4127e4bf\", \"subtype\": \"Figure\"}, {\"attributes\": {\"plot\": {\"subtype\": \"Figure\", \"type\": \"Plot\", \"id\": \"c2bc6458-6f4f-4ff1-8c87-dbf40fdf04d3\"}, \"ticker\": {\"type\": \"BasicTicker\", \"id\": \"9f228b04-c867-4139-9041-3641c4eeb7af\"}}, \"type\": \"Grid\", \"id\": \"1e117a94-eb6b-4f28-a9c2-0425af605eac\"}]}, \"title\": \"Bokeh Application\"}};\n",
       "            var render_items = [{\"notebook_comms_target\": \"babf7aff-495e-4661-913a-0ace2813b7f7\", \"docid\": \"60240632-6c57-40e0-9ed1-6e718e3f5b78\", \"elementid\": \"28e06ae5-bf14-4191-8e45-62cdef825e87\", \"modelid\": \"d8602afd-fe0d-4f5a-9fde-5bf046effd59\"}];\n",
       "            \n",
       "            Bokeh.embed.embed_items(docs_json, render_items);\n",
       "        });\n",
       "      },\n",
       "      function(Bokeh) {\n",
       "      }\n",
       "    ];\n",
       "  \n",
       "    function run_inline_js() {\n",
       "      for (var i = 0; i < inline_js.length; i++) {\n",
       "        inline_js[i](window.Bokeh);\n",
       "      }\n",
       "    }\n",
       "  \n",
       "    if (window._bokeh_is_loading === 0) {\n",
       "      console.log(\"Bokeh: BokehJS loaded, going straight to plotting\");\n",
       "      run_inline_js();\n",
       "    } else {\n",
       "      load_libs(js_urls, function() {\n",
       "        console.log(\"Bokeh: BokehJS plotting callback run at\", now());\n",
       "        run_inline_js();\n",
       "      });\n",
       "    }\n",
       "  }(this));\n",
       "</script>"
      ]
     },
     "metadata": {},
     "output_type": "display_data"
    },
    {
     "data": {
      "text/plain": [
       "<bokeh.io._CommsHandle at 0x10fb8a890>"
      ]
     },
     "execution_count": 50,
     "metadata": {},
     "output_type": "execute_result"
    }
   ],
   "source": [
    "plot = figure()\n",
    "plot.line(range(100),k)\n",
    "show(plot)"
   ]
  },
  {
   "cell_type": "code",
   "execution_count": null,
   "metadata": {
    "collapsed": false
   },
   "outputs": [],
   "source": []
  },
  {
   "cell_type": "code",
   "execution_count": null,
   "metadata": {
    "collapsed": true
   },
   "outputs": [],
   "source": []
  },
  {
   "cell_type": "code",
   "execution_count": null,
   "metadata": {
    "collapsed": true
   },
   "outputs": [],
   "source": []
  }
 ],
 "metadata": {
  "kernelspec": {
   "display_name": "Python 2",
   "language": "python",
   "name": "python2"
  },
  "language_info": {
   "codemirror_mode": {
    "name": "ipython",
    "version": 2
   },
   "file_extension": ".py",
   "mimetype": "text/x-python",
   "name": "python",
   "nbconvert_exporter": "python",
   "pygments_lexer": "ipython2",
   "version": "2.7.9"
  }
 },
 "nbformat": 4,
 "nbformat_minor": 0
}
