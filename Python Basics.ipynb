{
 "cells": [
  {
   "cell_type": "markdown",
   "metadata": {},
   "source": [
    "# Python Basics"
   ]
  },
  {
   "cell_type": "markdown",
   "metadata": {},
   "source": [
    "## Datastructures"
   ]
  },
  {
   "cell_type": "markdown",
   "metadata": {},
   "source": [
    "First we start with something lazy that does't do anything, a comment."
   ]
  },
  {
   "cell_type": "code",
   "execution_count": 3,
   "metadata": {
    "collapsed": true
   },
   "outputs": [],
   "source": [
    "# This is a python comment"
   ]
  },
  {
   "cell_type": "markdown",
   "metadata": {},
   "source": [
    "### Strings"
   ]
  },
  {
   "cell_type": "code",
   "execution_count": 4,
   "metadata": {
    "collapsed": true
   },
   "outputs": [],
   "source": [
    "my_string = \"Foo\"\n",
    "another_string = 'bar'\n",
    "\n",
    "new_string = my_string +' '+ another_string"
   ]
  },
  {
   "cell_type": "code",
   "execution_count": 5,
   "metadata": {
    "collapsed": false
   },
   "outputs": [
    {
     "name": "stdout",
     "output_type": "stream",
     "text": [
      "Foo bar\n"
     ]
    }
   ],
   "source": [
    "print(new_string)"
   ]
  },
  {
   "cell_type": "markdown",
   "metadata": {},
   "source": [
    "### Numbers\n",
    "Python supports all kinds of numbers. One little pifall is that numbers without a decimal point are interpreted as integers. "
   ]
  },
  {
   "cell_type": "code",
   "execution_count": null,
   "metadata": {
    "collapsed": true
   },
   "outputs": [],
   "source": []
  },
  {
   "cell_type": "code",
   "execution_count": 6,
   "metadata": {
    "collapsed": false
   },
   "outputs": [
    {
     "name": "stdout",
     "output_type": "stream",
     "text": [
      "<type 'float'>\n",
      "<type 'int'>\n",
      "<type 'float'>\n",
      "<type 'complex'>\n"
     ]
    }
   ],
   "source": [
    "pi =  3.1415\n",
    "x = 3\n",
    "y = 3.\n",
    "z = (1.5 + 5j)\n",
    "\n",
    "print type(pi)\n",
    "print type(x)\n",
    "print type(y)\n",
    "print type(z)"
   ]
  },
  {
   "cell_type": "code",
   "execution_count": 7,
   "metadata": {
    "collapsed": false
   },
   "outputs": [
    {
     "name": "stdout",
     "output_type": "stream",
     "text": [
      "20.4245\n",
      "9\n",
      "1.73205080757\n"
     ]
    }
   ],
   "source": [
    "import math\n",
    "\n",
    "print pi*x+11.0\n",
    "print x**2\n",
    "print math.sqrt(3)"
   ]
  },
  {
   "cell_type": "markdown",
   "metadata": {},
   "source": [
    "### Lists\n",
    "A list is similar to an array in C or Matlab. But it offers a lot more functionalites. \n"
   ]
  },
  {
   "cell_type": "code",
   "execution_count": 8,
   "metadata": {
    "collapsed": false
   },
   "outputs": [
    {
     "name": "stdout",
     "output_type": "stream",
     "text": [
      "['Chris', 'Kurt', 'Dave']\n"
     ]
    }
   ],
   "source": [
    "my_empty_list = []\n",
    "musicians = ['Chris', 'Kurt', 'Dave']\n",
    "instruments = ['Drums', 'Vocals', 'Guitar']\n",
    "print musicians"
   ]
  },
  {
   "cell_type": "markdown",
   "metadata": {},
   "source": [
    "What makes lists powerful are the built in methods of lists"
   ]
  },
  {
   "cell_type": "code",
   "execution_count": 9,
   "metadata": {
    "collapsed": false
   },
   "outputs": [
    {
     "name": "stdout",
     "output_type": "stream",
     "text": [
      "3\n",
      "[('Chris', 'Drums'), ('Kurt', 'Vocals'), ('Dave', 'Guitar')]\n",
      "['Chris', 'Kurt', 'Dave', 'Chris', 'Kurt', 'Dave', 'Chris', 'Kurt', 'Dave']\n",
      "[1, 3, 5, 7, 9]\n"
     ]
    }
   ],
   "source": [
    "print len(musicians)\n",
    "print zip(musicians, instruments)\n",
    "print musicians * 3\n",
    "\n",
    "def is_odd(num):\n",
    "   return num % 2\n",
    "\n",
    "print filter(is_odd, range(0,10,1),)"
   ]
  },
  {
   "cell_type": "code",
   "execution_count": 10,
   "metadata": {
    "collapsed": false
   },
   "outputs": [
    {
     "name": "stdout",
     "output_type": "stream",
     "text": [
      "['Chris', 'Kurt', 'Dave', 'Heino']\n"
     ]
    }
   ],
   "source": [
    "musicians.append('Heino')\n",
    "print musicians"
   ]
  },
  {
   "cell_type": "markdown",
   "metadata": {},
   "source": [
    "### Dictionaries"
   ]
  },
  {
   "cell_type": "code",
   "execution_count": 11,
   "metadata": {
    "collapsed": false
   },
   "outputs": [
    {
     "name": "stdout",
     "output_type": "stream",
     "text": [
      "<type 'dict'>\n"
     ]
    }
   ],
   "source": [
    "empty_dict = {}\n",
    "print type(empty_dict)"
   ]
  },
  {
   "cell_type": "code",
   "execution_count": 12,
   "metadata": {
    "collapsed": false
   },
   "outputs": [],
   "source": [
    "car = {'Brand': 'Volkswagen', \n",
    "       'Model': 'Golf', \n",
    "       'Power': 167.9,\n",
    "       'Weight': 1500,\n",
    "      'Serial_Number':0}"
   ]
  },
  {
   "cell_type": "code",
   "execution_count": 13,
   "metadata": {
    "collapsed": false
   },
   "outputs": [
    {
     "data": {
      "text/plain": [
       "['Weight', 'Brand', 'Model', 'Power', 'Serial_Number']"
      ]
     },
     "execution_count": 13,
     "metadata": {},
     "output_type": "execute_result"
    }
   ],
   "source": [
    "car.keys()"
   ]
  },
  {
   "cell_type": "markdown",
   "metadata": {},
   "source": [
    "Acessing a dictionary"
   ]
  },
  {
   "cell_type": "code",
   "execution_count": 14,
   "metadata": {
    "collapsed": false
   },
   "outputs": [
    {
     "data": {
      "text/plain": [
       "'Golf'"
      ]
     },
     "execution_count": 14,
     "metadata": {},
     "output_type": "execute_result"
    }
   ],
   "source": [
    "car['Model']"
   ]
  },
  {
   "cell_type": "markdown",
   "metadata": {},
   "source": [
    "## Dataflow"
   ]
  },
  {
   "cell_type": "markdown",
   "metadata": {},
   "source": [
    "## if statement"
   ]
  },
  {
   "cell_type": "code",
   "execution_count": 15,
   "metadata": {
    "collapsed": false
   },
   "outputs": [
    {
     "name": "stdout",
     "output_type": "stream",
     "text": [
      "Write you name pleasek\n",
      "Your Name is shorter than 5 Characters\n"
     ]
    }
   ],
   "source": [
    "name = raw_input('Write you name please')\n",
    "if(len(name)< 5):\n",
    "    print \"Your Name is shorter than 5 Characters\"\n",
    "else:\n",
    "    print \"Your Name is 5 characters long or longer\""
   ]
  },
  {
   "cell_type": "markdown",
   "metadata": {},
   "source": [
    "### For loops"
   ]
  },
  {
   "cell_type": "code",
   "execution_count": 16,
   "metadata": {
    "collapsed": false
   },
   "outputs": [
    {
     "name": "stdout",
     "output_type": "stream",
     "text": [
      "0\n",
      "1\n",
      "2\n"
     ]
    }
   ],
   "source": [
    "for index in range(0,3,1):\n",
    "    print index"
   ]
  },
  {
   "cell_type": "code",
   "execution_count": 17,
   "metadata": {
    "collapsed": false
   },
   "outputs": [
    {
     "name": "stdout",
     "output_type": "stream",
     "text": [
      "Model-S\n",
      "E-Type\n"
     ]
    }
   ],
   "source": [
    "my_cars = [{'Brand': 'Tesla', \n",
    "       'Model': 'Model-S', \n",
    "       'Power': 510.0,\n",
    "       'Weight': 2100,\n",
    "      'Serial_Number':0},{'Brand': 'Jaguar', \n",
    "       'Model': 'E-Type', \n",
    "       'Power': 210.1,\n",
    "       'Weight': 1300,\n",
    "      'Serial_Number':0}]\n",
    "\n",
    "for car in my_cars:\n",
    "    print car['Model']"
   ]
  },
  {
   "cell_type": "code",
   "execution_count": 18,
   "metadata": {
    "collapsed": false
   },
   "outputs": [
    {
     "name": "stdout",
     "output_type": "stream",
     "text": [
      "0 : Tesla - Model-S\n",
      "1 : Jaguar - E-Type\n"
     ]
    }
   ],
   "source": [
    "for index, car in enumerate(my_cars):\n",
    "    print('%s : %s - %s' %(index, car['Brand'], car['Model']))"
   ]
  },
  {
   "cell_type": "markdown",
   "metadata": {},
   "source": [
    "List comperhension"
   ]
  },
  {
   "cell_type": "code",
   "execution_count": 19,
   "metadata": {
    "collapsed": false
   },
   "outputs": [
    {
     "name": "stdout",
     "output_type": "stream",
     "text": [
      "['Tesla', 'Jaguar']\n"
     ]
    }
   ],
   "source": [
    "brands = [car['Brand'] for car in my_cars]\n",
    "print brands"
   ]
  },
  {
   "cell_type": "markdown",
   "metadata": {},
   "source": [
    "## Functions"
   ]
  },
  {
   "cell_type": "code",
   "execution_count": 20,
   "metadata": {
    "collapsed": true
   },
   "outputs": [],
   "source": [
    "def myfunction(A, B):\n",
    "    result = A + B\n",
    "    return result"
   ]
  },
  {
   "cell_type": "code",
   "execution_count": 21,
   "metadata": {
    "collapsed": false
   },
   "outputs": [
    {
     "data": {
      "text/plain": [
       "17"
      ]
     },
     "execution_count": 21,
     "metadata": {},
     "output_type": "execute_result"
    }
   ],
   "source": [
    "myfunction(8, 9)"
   ]
  },
  {
   "cell_type": "markdown",
   "metadata": {},
   "source": [
    "Default parameters. "
   ]
  },
  {
   "cell_type": "code",
   "execution_count": 22,
   "metadata": {
    "collapsed": true
   },
   "outputs": [],
   "source": [
    "def myfunction_2(A, B, offset = 0):\n",
    "    result = A + B + offset\n",
    "    return result"
   ]
  },
  {
   "cell_type": "code",
   "execution_count": 23,
   "metadata": {
    "collapsed": false
   },
   "outputs": [
    {
     "data": {
      "text/plain": [
       "15"
      ]
     },
     "execution_count": 23,
     "metadata": {},
     "output_type": "execute_result"
    }
   ],
   "source": [
    "myfunction_2(10,5)"
   ]
  },
  {
   "cell_type": "code",
   "execution_count": 24,
   "metadata": {
    "collapsed": false
   },
   "outputs": [
    {
     "data": {
      "text/plain": [
       "115"
      ]
     },
     "execution_count": 24,
     "metadata": {},
     "output_type": "execute_result"
    }
   ],
   "source": [
    "myfunction_2(10,5, offset=100)"
   ]
  },
  {
   "cell_type": "markdown",
   "metadata": {},
   "source": [
    "Anonymous functions ... The Lambda operator"
   ]
  },
  {
   "cell_type": "code",
   "execution_count": 25,
   "metadata": {
    "collapsed": false
   },
   "outputs": [
    {
     "data": {
      "text/plain": [
       "[2, 4, 6]"
      ]
     },
     "execution_count": 25,
     "metadata": {},
     "output_type": "execute_result"
    }
   ],
   "source": [
    "map(lambda x : x*2, [1,2,3])"
   ]
  },
  {
   "cell_type": "markdown",
   "metadata": {
    "collapsed": true
   },
   "source": [
    "Classes"
   ]
  },
  {
   "cell_type": "code",
   "execution_count": 26,
   "metadata": {
    "collapsed": false
   },
   "outputs": [],
   "source": [
    "class Tree(object):\n",
    "    def __init__(self):\n",
    "        \n",
    "        self.heigth = 0.2;\n",
    "        self.leafs = [Leaf() for i in range(10)];\n",
    "    \n",
    "    def grow(self):\n",
    "        self.heigth=self.heigth *1.5;\n",
    "        \n",
    "    def get_older(self):\n",
    "        self.leafs = filter(lambda leaf: leaf.color != 'brown', self.leafs)\n",
    "\n",
    "    def grow_leafs(self):\n",
    "        self.leafs.extend([Leaf() for i in range(len(self.leafs))])\n",
    "    \n",
    "    def green_leafs(self):\n",
    "        return filter(lambda leaf: leaf.color == 'green', self.leafs)\n",
    "    \n",
    "    def orange_leafs(self):\n",
    "        return filter(lambda leaf: leaf.color == 'orange', self.leafs)\n",
    "\n",
    "        \n",
    "    def __str__(self):\n",
    "        num_green_leafs = 100. * float(len(self.green_leafs()))/float(len(self.leafs))\n",
    "        num_orange_leafs = 100. * float(len(self.orange_leafs()))/float(len(self.leafs))\n",
    "        return \"Tree: %2.1f m tall, %s leafs %2.1f %% green %2.1f orange\" % (self.heigth, len(self.leafs), num_green_leafs, num_orange_leafs )\n",
    "        \n",
    "class Leaf(object):\n",
    "    def __init__(self):\n",
    "        self.color = 'green';\n",
    "        \n",
    "    def get_older(self):\n",
    "        self.color = 'orange';\n",
    "        \n",
    "    def die(self):\n",
    "        self.color = 'brown';"
   ]
  },
  {
   "cell_type": "code",
   "execution_count": 27,
   "metadata": {
    "collapsed": false
   },
   "outputs": [],
   "source": [
    "my_tree = Tree()"
   ]
  },
  {
   "cell_type": "code",
   "execution_count": 28,
   "metadata": {
    "collapsed": false
   },
   "outputs": [
    {
     "name": "stdout",
     "output_type": "stream",
     "text": [
      "Tree: 0.2 m tall, 10 leafs 100.0 % green 0.0 orange\n"
     ]
    }
   ],
   "source": [
    "print my_tree"
   ]
  },
  {
   "cell_type": "code",
   "execution_count": 29,
   "metadata": {
    "collapsed": false
   },
   "outputs": [
    {
     "name": "stdout",
     "output_type": "stream",
     "text": [
      "Tree: 0.3 m tall, 20 leafs 100.0 % green 0.0 orange\n",
      "Tree: 0.5 m tall, 40 leafs 100.0 % green 0.0 orange\n",
      "Tree: 0.7 m tall, 80 leafs 100.0 % green 0.0 orange\n"
     ]
    }
   ],
   "source": [
    "for year in range(0,3,1):\n",
    "    my_tree.grow()\n",
    "    my_tree.grow_leafs()\n",
    "    print my_tree"
   ]
  },
  {
   "cell_type": "markdown",
   "metadata": {},
   "source": [
    "Exercise:\n",
    "Program the aging of the tee... 50 % of the leafs are getting older and 25% of the organge leafs die. Print the tree at every iteration."
   ]
  },
  {
   "cell_type": "code",
   "execution_count": 30,
   "metadata": {
    "collapsed": false
   },
   "outputs": [
    {
     "name": "stdout",
     "output_type": "stream",
     "text": [
      "Tree: 0.3 m tall, 20 leafs 100.0 % green 0.0 orange\n",
      "Tree: 0.5 m tall, 40 leafs 100.0 % green 0.0 orange\n",
      "Tree: 0.7 m tall, 80 leafs 100.0 % green 0.0 orange\n",
      "Tree: 1.0 m tall, 160 leafs 100.0 % green 0.0 orange\n",
      "Tree: 1.5 m tall, 320 leafs 100.0 % green 0.0 orange\n",
      "Tree: 2.3 m tall, 640 leafs 100.0 % green 0.0 orange\n",
      "Tree: 3.4 m tall, 1280 leafs 100.0 % green 0.0 orange\n",
      "Tree: 5.1 m tall, 2560 leafs 100.0 % green 0.0 orange\n",
      "Tree: 7.7 m tall, 5120 leafs 100.0 % green 0.0 orange\n",
      "Tree: 11.5 m tall, 10240 leafs 100.0 % green 0.0 orange\n",
      " Stopped growing\n",
      "Tree: 11.5 m tall, 10240 leafs 50.0 % green 33.3 orange\n",
      "Tree: 11.5 m tall, 8533 leafs 30.0 % green 46.7 orange\n",
      "Tree: 11.5 m tall, 6542 leafs 19.6 % green 53.6 orange\n",
      "Tree: 11.5 m tall, 4788 leafs 13.4 % green 57.7 orange\n",
      "Tree: 11.5 m tall, 3405 leafs 9.4 % green 60.4 orange\n",
      "Tree: 11.5 m tall, 2376 leafs 6.7 % green 62.2 orange\n",
      "Tree: 11.5 m tall, 1637 leafs 4.9 % green 63.4 orange\n",
      "Tree: 11.5 m tall, 1118 leafs 3.6 % green 64.2 orange\n",
      "Tree: 11.5 m tall, 758 leafs 2.6 % green 64.9 orange\n",
      "Tree: 11.5 m tall, 512 leafs 2.0 % green 65.2 orange\n",
      "Tree: 11.5 m tall, 344 leafs 1.5 % green 65.7 orange\n",
      "Tree: 11.5 m tall, 231 leafs 0.9 % green 65.8 orange\n",
      "Tree: 11.5 m tall, 154 leafs 0.6 % green 66.2 orange\n",
      "Tree: 11.5 m tall, 103 leafs 0.0 % green 66.0 orange\n",
      "Tree: 11.5 m tall, 68 leafs 0.0 % green 66.2 orange\n",
      "Tree: 11.5 m tall, 45 leafs 0.0 % green 66.7 orange\n",
      "Tree: 11.5 m tall, 30 leafs 0.0 % green 66.7 orange\n",
      "Tree: 11.5 m tall, 20 leafs 0.0 % green 65.0 orange\n",
      "Tree: 11.5 m tall, 13 leafs 0.0 % green 61.5 orange\n",
      "Tree: 11.5 m tall, 8 leafs 0.0 % green 62.5 orange\n",
      "Tree: 11.5 m tall, 5 leafs 0.0 % green 60.0 orange\n",
      "Tree: 11.5 m tall, 3 leafs 0.0 % green 66.7 orange\n",
      "Tree: 11.5 m tall, 2 leafs 0.0 % green 50.0 orange\n",
      "Tree: 11.5 m tall, 1 leafs 0.0 % green 0.0 orange\n"
     ]
    },
    {
     "ename": "ZeroDivisionError",
     "evalue": "float division by zero",
     "output_type": "error",
     "traceback": [
      "\u001b[0;31m---------------------------------------------------------------------------\u001b[0m",
      "\u001b[0;31mZeroDivisionError\u001b[0m                         Traceback (most recent call last)",
      "\u001b[0;32m<ipython-input-30-b8fd1d618782>\u001b[0m in \u001b[0;36m<module>\u001b[0;34m()\u001b[0m\n\u001b[1;32m     14\u001b[0m     \u001b[0;32mfor\u001b[0m \u001b[0mleaf\u001b[0m \u001b[0;32min\u001b[0m \u001b[0mmy_tree\u001b[0m\u001b[0;34m.\u001b[0m\u001b[0morange_leafs\u001b[0m\u001b[0;34m(\u001b[0m\u001b[0;34m)\u001b[0m\u001b[0;34m[\u001b[0m\u001b[0;34m:\u001b[0m\u001b[0;34m:\u001b[0m\u001b[0;36m3\u001b[0m\u001b[0;34m]\u001b[0m\u001b[0;34m:\u001b[0m\u001b[0;34m\u001b[0m\u001b[0m\n\u001b[1;32m     15\u001b[0m             \u001b[0mleaf\u001b[0m\u001b[0;34m.\u001b[0m\u001b[0mdie\u001b[0m\u001b[0;34m(\u001b[0m\u001b[0;34m)\u001b[0m\u001b[0;34m\u001b[0m\u001b[0m\n\u001b[0;32m---> 16\u001b[0;31m     \u001b[0;32mprint\u001b[0m \u001b[0mmy_tree\u001b[0m\u001b[0;34m\u001b[0m\u001b[0m\n\u001b[0m",
      "\u001b[0;32m<ipython-input-26-7d0c01d0b5b5>\u001b[0m in \u001b[0;36m__str__\u001b[0;34m(self)\u001b[0m\n\u001b[1;32m     22\u001b[0m \u001b[0;34m\u001b[0m\u001b[0m\n\u001b[1;32m     23\u001b[0m     \u001b[0;32mdef\u001b[0m \u001b[0m__str__\u001b[0m\u001b[0;34m(\u001b[0m\u001b[0mself\u001b[0m\u001b[0;34m)\u001b[0m\u001b[0;34m:\u001b[0m\u001b[0;34m\u001b[0m\u001b[0m\n\u001b[0;32m---> 24\u001b[0;31m         \u001b[0mnum_green_leafs\u001b[0m \u001b[0;34m=\u001b[0m \u001b[0;36m100.\u001b[0m \u001b[0;34m*\u001b[0m \u001b[0mfloat\u001b[0m\u001b[0;34m(\u001b[0m\u001b[0mlen\u001b[0m\u001b[0;34m(\u001b[0m\u001b[0mself\u001b[0m\u001b[0;34m.\u001b[0m\u001b[0mgreen_leafs\u001b[0m\u001b[0;34m(\u001b[0m\u001b[0;34m)\u001b[0m\u001b[0;34m)\u001b[0m\u001b[0;34m)\u001b[0m\u001b[0;34m/\u001b[0m\u001b[0mfloat\u001b[0m\u001b[0;34m(\u001b[0m\u001b[0mlen\u001b[0m\u001b[0;34m(\u001b[0m\u001b[0mself\u001b[0m\u001b[0;34m.\u001b[0m\u001b[0mleafs\u001b[0m\u001b[0;34m)\u001b[0m\u001b[0;34m)\u001b[0m\u001b[0;34m\u001b[0m\u001b[0m\n\u001b[0m\u001b[1;32m     25\u001b[0m         \u001b[0mnum_orange_leafs\u001b[0m \u001b[0;34m=\u001b[0m \u001b[0;36m100.\u001b[0m \u001b[0;34m*\u001b[0m \u001b[0mfloat\u001b[0m\u001b[0;34m(\u001b[0m\u001b[0mlen\u001b[0m\u001b[0;34m(\u001b[0m\u001b[0mself\u001b[0m\u001b[0;34m.\u001b[0m\u001b[0morange_leafs\u001b[0m\u001b[0;34m(\u001b[0m\u001b[0;34m)\u001b[0m\u001b[0;34m)\u001b[0m\u001b[0;34m)\u001b[0m\u001b[0;34m/\u001b[0m\u001b[0mfloat\u001b[0m\u001b[0;34m(\u001b[0m\u001b[0mlen\u001b[0m\u001b[0;34m(\u001b[0m\u001b[0mself\u001b[0m\u001b[0;34m.\u001b[0m\u001b[0mleafs\u001b[0m\u001b[0;34m)\u001b[0m\u001b[0;34m)\u001b[0m\u001b[0;34m\u001b[0m\u001b[0m\n\u001b[1;32m     26\u001b[0m         \u001b[0;32mreturn\u001b[0m \u001b[0;34m\"Tree: %2.1f m tall, %s leafs %2.1f %% green %2.1f orange\"\u001b[0m \u001b[0;34m%\u001b[0m \u001b[0;34m(\u001b[0m\u001b[0mself\u001b[0m\u001b[0;34m.\u001b[0m\u001b[0mheigth\u001b[0m\u001b[0;34m,\u001b[0m \u001b[0mlen\u001b[0m\u001b[0;34m(\u001b[0m\u001b[0mself\u001b[0m\u001b[0;34m.\u001b[0m\u001b[0mleafs\u001b[0m\u001b[0;34m)\u001b[0m\u001b[0;34m,\u001b[0m \u001b[0mnum_green_leafs\u001b[0m\u001b[0;34m,\u001b[0m \u001b[0mnum_orange_leafs\u001b[0m \u001b[0;34m)\u001b[0m\u001b[0;34m\u001b[0m\u001b[0m\n",
      "\u001b[0;31mZeroDivisionError\u001b[0m: float division by zero"
     ]
    }
   ],
   "source": [
    "my_tree = Tree()\n",
    "\n",
    "for year in range(0,10,1):\n",
    "    my_tree.grow()\n",
    "    my_tree.grow_leafs()\n",
    "    print my_tree\n",
    "    \n",
    "print \" Stopped growing\"\n",
    "\n",
    "for year in range(0,10,1):\n",
    "    my_tree.get_older()\n",
    "    for leaf in my_tree.green_leafs()[::2]:\n",
    "            leaf.get_older()\n",
    "    for leaf in my_tree.orange_leafs()[::3]:\n",
    "            leaf.die()\n",
    "    print my_tree"
   ]
  },
  {
   "cell_type": "code",
   "execution_count": null,
   "metadata": {
    "collapsed": false
   },
   "outputs": [],
   "source": []
  },
  {
   "cell_type": "code",
   "execution_count": null,
   "metadata": {
    "collapsed": true
   },
   "outputs": [],
   "source": []
  },
  {
   "cell_type": "code",
   "execution_count": null,
   "metadata": {
    "collapsed": true
   },
   "outputs": [],
   "source": []
  }
 ],
 "metadata": {
  "kernelspec": {
   "display_name": "Python 2",
   "language": "python",
   "name": "python2"
  },
  "language_info": {
   "codemirror_mode": {
    "name": "ipython",
    "version": 2
   },
   "file_extension": ".py",
   "mimetype": "text/x-python",
   "name": "python",
   "nbconvert_exporter": "python",
   "pygments_lexer": "ipython2",
   "version": "2.7.9"
  }
 },
 "nbformat": 4,
 "nbformat_minor": 0
}
