{
 "metadata": {
  "name": "",
  "signature": "sha256:6b0adef8d296a3177c43e8ce1452f1c4a5de8c08b105e7641663a98972d355c6"
 },
 "nbformat": 3,
 "nbformat_minor": 0,
 "worksheets": [
  {
   "cells": [
    {
     "cell_type": "code",
     "collapsed": false,
     "input": [
      "from __future__ import print_function\n",
      "from check import check, print"
     ],
     "language": "python",
     "metadata": {},
     "outputs": [],
     "prompt_number": 1
    },
    {
     "cell_type": "markdown",
     "metadata": {},
     "source": [
      "## Excercise 1.1\n",
      "\n",
      "Assign a string with the value `'Kurt'` to a variable named `first_name`."
     ]
    },
    {
     "cell_type": "code",
     "collapsed": false,
     "input": [
      "## Write code here\n",
      "first_name = 'Kurt'\n",
      "print(first_name)\n",
      "\n",
      "\n",
      "###\n",
      "check('1.1')"
     ],
     "language": "python",
     "metadata": {},
     "outputs": [
      {
       "output_type": "stream",
       "stream": "stdout",
       "text": [
        "Kurt\n"
       ]
      },
      {
       "metadata": {},
       "output_type": "pyout",
       "png": "[encoded data removed]",
       "prompt_number": 2,
       "text": [
        "<IPython.core.display.Image at 0x7f58f8ac3b90>"
       ]
      }
     ],
     "prompt_number": 2
    },
    {
     "cell_type": "markdown",
     "metadata": {},
     "source": [
      "## Excersise 1.2\n",
      "\n"
     ]
    },
    {
     "cell_type": "code",
     "collapsed": false,
     "input": [
      "# Write your code here\n",
      "test = 0\n",
      "\n",
      "print('Guten Tag')\n",
      "\n",
      "###\n",
      "check('1.2')"
     ],
     "language": "python",
     "metadata": {},
     "outputs": [
      {
       "output_type": "stream",
       "stream": "stdout",
       "text": [
        "Guten Tag\n"
       ]
      },
      {
       "metadata": {},
       "output_type": "pyout",
       "png": "[encoded data removed]",
       "prompt_number": 3,
       "text": [
        "<IPython.core.display.Image at 0x7f58f8adc4d0>"
       ]
      }
     ],
     "prompt_number": 3
    }
   ],
   "metadata": {}
  }
 ]
}